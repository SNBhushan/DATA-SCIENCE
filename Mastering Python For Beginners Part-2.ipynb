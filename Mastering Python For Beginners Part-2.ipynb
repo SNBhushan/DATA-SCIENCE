{
 "cells": [
  {
   "cell_type": "markdown",
   "metadata": {},
   "source": [
    "#  Data structures"
   ]
  },
  {
   "cell_type": "markdown",
   "metadata": {},
   "source": [
    "# List"
   ]
  },
  {
   "cell_type": "code",
   "execution_count": 2,
   "metadata": {},
   "outputs": [
    {
     "name": "stdout",
     "output_type": "stream",
     "text": [
      "the type of l is : <class 'list'>\n",
      "the type of T is : <class 'tuple'>\n",
      "the type of s is : <class 'set'>\n",
      "the type of D is : <class 'dict'>\n"
     ]
    }
   ],
   "source": [
    "l=[1,3,4.9,\"name,3\"] #list\n",
    "T=(1,3,4.9,\"name,3\") #tuple\n",
    "s={1,3,4.9,\"name\",3} #set in word can be used to check item\n",
    "D={23:\"twothree\",\"b\":43,\"c\":\"ccd\"}\n",
    "print(\"the type of l is :\",type(l))\n",
    "print(\"the type of T is :\",type(T))\n",
    "print(\"the type of s is :\",type(s))\n",
    "print(\"the type of D is :\",type(D))"
   ]
  },
  {
   "cell_type": "code",
   "execution_count": 7,
   "metadata": {},
   "outputs": [
    {
     "name": "stdout",
     "output_type": "stream",
     "text": [
      "3\n",
      "3\n",
      "True\n",
      "twothree\n"
     ]
    }
   ],
   "source": [
    "print(l[1])\n",
    "print(T[1])\n",
    "print(3 in s)\n",
    "print (D[23])"
   ]
  },
  {
   "cell_type": "code",
   "execution_count": 8,
   "metadata": {},
   "outputs": [
    {
     "data": {
      "text/plain": [
       "{1, 3, 4.9, 'name'}"
      ]
     },
     "execution_count": 8,
     "metadata": {},
     "output_type": "execute_result"
    }
   ],
   "source": [
    "s"
   ]
  },
  {
   "cell_type": "code",
   "execution_count": 10,
   "metadata": {},
   "outputs": [
    {
     "data": {
      "text/plain": [
       "True"
      ]
     },
     "execution_count": 10,
     "metadata": {},
     "output_type": "execute_result"
    }
   ],
   "source": [
    "'name' in s"
   ]
  },
  {
   "cell_type": "code",
   "execution_count": 12,
   "metadata": {},
   "outputs": [
    {
     "data": {
      "text/plain": [
       "[3, 4.9]"
      ]
     },
     "execution_count": 12,
     "metadata": {},
     "output_type": "execute_result"
    }
   ],
   "source": [
    "l[1:3]"
   ]
  },
  {
   "cell_type": "code",
   "execution_count": 13,
   "metadata": {},
   "outputs": [
    {
     "data": {
      "text/plain": [
       "['name,3', 4.9, 3, 1]"
      ]
     },
     "execution_count": 13,
     "metadata": {},
     "output_type": "execute_result"
    }
   ],
   "source": [
    "l[::-1]"
   ]
  },
  {
   "cell_type": "code",
   "execution_count": 15,
   "metadata": {},
   "outputs": [
    {
     "data": {
      "text/plain": [
       "(3, 4.9, 'name,3')"
      ]
     },
     "execution_count": 15,
     "metadata": {},
     "output_type": "execute_result"
    }
   ],
   "source": [
    "T[1:5]"
   ]
  },
  {
   "cell_type": "code",
   "execution_count": 19,
   "metadata": {},
   "outputs": [],
   "source": [
    "l.append(\"bhus\")"
   ]
  },
  {
   "cell_type": "code",
   "execution_count": 21,
   "metadata": {},
   "outputs": [
    {
     "data": {
      "text/plain": [
       "[1, 3, 4.9, 'name,3', 'bhus', 'nadu']"
      ]
     },
     "execution_count": 21,
     "metadata": {},
     "output_type": "execute_result"
    }
   ],
   "source": [
    "l+[\"nadu\"]"
   ]
  },
  {
   "cell_type": "code",
   "execution_count": 24,
   "metadata": {},
   "outputs": [],
   "source": [
    "l.insert(1,\"hi\")\n"
   ]
  },
  {
   "cell_type": "code",
   "execution_count": 25,
   "metadata": {},
   "outputs": [
    {
     "data": {
      "text/plain": [
       "[1, 'hi', 3, 4.9, 'name,3', 'bhus']"
      ]
     },
     "execution_count": 25,
     "metadata": {},
     "output_type": "execute_result"
    }
   ],
   "source": [
    "l"
   ]
  },
  {
   "cell_type": "code",
   "execution_count": 27,
   "metadata": {},
   "outputs": [
    {
     "data": {
      "text/plain": [
       "1"
      ]
     },
     "execution_count": 27,
     "metadata": {},
     "output_type": "execute_result"
    }
   ],
   "source": [
    "T.count(3)"
   ]
  },
  {
   "cell_type": "code",
   "execution_count": 29,
   "metadata": {},
   "outputs": [
    {
     "data": {
      "text/plain": [
       "(1, 3, 4.9, 'name,3', 'hi', 1, 'hdh')"
      ]
     },
     "execution_count": 29,
     "metadata": {},
     "output_type": "execute_result"
    }
   ],
   "source": [
    "T2=(\"hi\",1,\"hdh\")\n",
    "T3=T+T2\n",
    "T3"
   ]
  },
  {
   "cell_type": "code",
   "execution_count": 51,
   "metadata": {},
   "outputs": [
    {
     "data": {
      "text/plain": [
       "{'b': 43, 'c': 'ccd', 'nwe': 'value', 'hi': 3, 5: 'hello'}"
      ]
     },
     "execution_count": 51,
     "metadata": {},
     "output_type": "execute_result"
    }
   ],
   "source": [
    "D[\"nwe\"]=\"value\"\n",
    "D"
   ]
  },
  {
   "cell_type": "code",
   "execution_count": 32,
   "metadata": {},
   "outputs": [
    {
     "ename": "TypeError",
     "evalue": "unsupported operand type(s) for +: 'dict' and 'dict'",
     "output_type": "error",
     "traceback": [
      "\u001b[1;31m---------------------------------------------------------------------------\u001b[0m",
      "\u001b[1;31mTypeError\u001b[0m                                 Traceback (most recent call last)",
      "\u001b[1;32m<ipython-input-32-f8e2bb7707e0>\u001b[0m in \u001b[0;36m<module>\u001b[1;34m\u001b[0m\n\u001b[0;32m      1\u001b[0m \u001b[0mD2\u001b[0m\u001b[1;33m=\u001b[0m\u001b[1;33m{\u001b[0m\u001b[1;34m\"hi\"\u001b[0m\u001b[1;33m:\u001b[0m\u001b[1;36m3\u001b[0m\u001b[1;33m,\u001b[0m\u001b[1;36m5\u001b[0m\u001b[1;33m:\u001b[0m\u001b[1;34m\"hello\"\u001b[0m\u001b[1;33m}\u001b[0m\u001b[1;33m\u001b[0m\u001b[1;33m\u001b[0m\u001b[0m\n\u001b[1;32m----> 2\u001b[1;33m \u001b[0mD3\u001b[0m\u001b[1;33m=\u001b[0m\u001b[0mD2\u001b[0m\u001b[1;33m+\u001b[0m\u001b[0mD\u001b[0m\u001b[1;33m\u001b[0m\u001b[1;33m\u001b[0m\u001b[0m\n\u001b[0m",
      "\u001b[1;31mTypeError\u001b[0m: unsupported operand type(s) for +: 'dict' and 'dict'"
     ]
    }
   ],
   "source": [
    "D2={\"hi\":3,5:\"hello\"}\n",
    "D3=D2+D #cannot add using \"+\""
   ]
  },
  {
   "cell_type": "code",
   "execution_count": 40,
   "metadata": {},
   "outputs": [
    {
     "data": {
      "text/plain": [
       "[1, 'hi', 3, 'bhus']"
      ]
     },
     "execution_count": 40,
     "metadata": {},
     "output_type": "execute_result"
    }
   ],
   "source": [
    "del l[3]\n",
    "l"
   ]
  },
  {
   "cell_type": "code",
   "execution_count": 43,
   "metadata": {},
   "outputs": [],
   "source": [
    "s.remove('name')"
   ]
  },
  {
   "cell_type": "code",
   "execution_count": 45,
   "metadata": {},
   "outputs": [],
   "source": [
    "del D[23]"
   ]
  },
  {
   "cell_type": "code",
   "execution_count": 47,
   "metadata": {},
   "outputs": [],
   "source": [
    "D.update(D2)"
   ]
  },
  {
   "cell_type": "code",
   "execution_count": 52,
   "metadata": {},
   "outputs": [
    {
     "data": {
      "text/plain": [
       "{'b': 43, 'c': 'ccd', 'nwe': 'value', 'hi': 3, 5: 'hello'}"
      ]
     },
     "execution_count": 52,
     "metadata": {},
     "output_type": "execute_result"
    }
   ],
   "source": [
    "D"
   ]
  },
  {
   "cell_type": "code",
   "execution_count": 53,
   "metadata": {},
   "outputs": [],
   "source": [
    "l.copy?\n"
   ]
  },
  {
   "cell_type": "code",
   "execution_count": 68,
   "metadata": {},
   "outputs": [],
   "source": [
    "l2=l.copy()"
   ]
  },
  {
   "cell_type": "code",
   "execution_count": 70,
   "metadata": {},
   "outputs": [],
   "source": [
    "l2[1]=25"
   ]
  },
  {
   "cell_type": "code",
   "execution_count": 71,
   "metadata": {},
   "outputs": [
    {
     "data": {
      "text/plain": [
       "[1, 5, 3, 'bhus']"
      ]
     },
     "execution_count": 71,
     "metadata": {},
     "output_type": "execute_result"
    }
   ],
   "source": [
    "l"
   ]
  },
  {
   "cell_type": "code",
   "execution_count": 72,
   "metadata": {},
   "outputs": [
    {
     "data": {
      "text/plain": [
       "[1, 25, 3, 'bhus']"
      ]
     },
     "execution_count": 72,
     "metadata": {},
     "output_type": "execute_result"
    }
   ],
   "source": [
    "l2"
   ]
  },
  {
   "cell_type": "code",
   "execution_count": 74,
   "metadata": {},
   "outputs": [
    {
     "name": "stdout",
     "output_type": "stream",
     "text": [
      "Help on built-in function append:\n",
      "\n",
      "append(object, /) method of builtins.list instance\n",
      "    Append object to the end of the list.\n",
      "\n",
      "Help on built-in function clear:\n",
      "\n",
      "clear() method of builtins.list instance\n",
      "    Remove all items from list.\n",
      "\n"
     ]
    }
   ],
   "source": [
    "help(l.append)\n",
    "help(l.clear)"
   ]
  },
  {
   "cell_type": "code",
   "execution_count": 76,
   "metadata": {},
   "outputs": [
    {
     "data": {
      "text/plain": [
       "5"
      ]
     },
     "execution_count": 76,
     "metadata": {},
     "output_type": "execute_result"
    }
   ],
   "source": [
    "l.pop(1)"
   ]
  },
  {
   "cell_type": "code",
   "execution_count": 77,
   "metadata": {},
   "outputs": [
    {
     "data": {
      "text/plain": [
       "[1, 3, 'bhus']"
      ]
     },
     "execution_count": 77,
     "metadata": {},
     "output_type": "execute_result"
    }
   ],
   "source": [
    "l"
   ]
  },
  {
   "cell_type": "code",
   "execution_count": 78,
   "metadata": {},
   "outputs": [],
   "source": [
    "l.reverse()"
   ]
  },
  {
   "cell_type": "code",
   "execution_count": 79,
   "metadata": {},
   "outputs": [
    {
     "data": {
      "text/plain": [
       "['bhus', 3, 1]"
      ]
     },
     "execution_count": 79,
     "metadata": {},
     "output_type": "execute_result"
    }
   ],
   "source": [
    "l"
   ]
  },
  {
   "cell_type": "code",
   "execution_count": 92,
   "metadata": {},
   "outputs": [],
   "source": [
    "s.update(\"a\",'nssn','1')"
   ]
  },
  {
   "cell_type": "code",
   "execution_count": 93,
   "metadata": {},
   "outputs": [
    {
     "data": {
      "text/plain": [
       "{1, '1', 3, 4.9, 'a', 'n', 's'}"
      ]
     },
     "execution_count": 93,
     "metadata": {},
     "output_type": "execute_result"
    }
   ],
   "source": [
    "s"
   ]
  },
  {
   "cell_type": "code",
   "execution_count": 94,
   "metadata": {},
   "outputs": [
    {
     "data": {
      "text/plain": [
       "{1, '1', 3, 4.9, 'a', 'n', 's'}"
      ]
     },
     "execution_count": 94,
     "metadata": {},
     "output_type": "execute_result"
    }
   ],
   "source": [
    "s.union()"
   ]
  },
  {
   "cell_type": "code",
   "execution_count": 99,
   "metadata": {},
   "outputs": [
    {
     "name": "stdout",
     "output_type": "stream",
     "text": [
      "{'a': ['bhus', 3, 1], 'b': (1, 3, 4.9, 'name,3'), 'c': {1, 3, 4.9, '1', 'n', 's', 'a'}, 'd': {'b': 43, 'c': 'ccd', 'nwe': 'value', 'hi': 3, 5: 'hello'}}\n"
     ]
    }
   ],
   "source": [
    "d={\"a\":l,\"b\":T,\"c\":s,\"d\":D}\n",
    "print(d)"
   ]
  },
  {
   "cell_type": "code",
   "execution_count": 100,
   "metadata": {},
   "outputs": [
    {
     "data": {
      "text/plain": [
       "4.9"
      ]
     },
     "execution_count": 100,
     "metadata": {},
     "output_type": "execute_result"
    }
   ],
   "source": [
    "d[\"b\"][2]"
   ]
  },
  {
   "cell_type": "code",
   "execution_count": 101,
   "metadata": {},
   "outputs": [],
   "source": [
    "k=d[\"d\"]"
   ]
  },
  {
   "cell_type": "code",
   "execution_count": 102,
   "metadata": {},
   "outputs": [
    {
     "data": {
      "text/plain": [
       "{'b': 43, 'c': 'ccd', 'nwe': 'value', 'hi': 3, 5: 'hello'}"
      ]
     },
     "execution_count": 102,
     "metadata": {},
     "output_type": "execute_result"
    }
   ],
   "source": [
    "k"
   ]
  },
  {
   "cell_type": "code",
   "execution_count": 103,
   "metadata": {},
   "outputs": [
    {
     "name": "stdout",
     "output_type": "stream",
     "text": [
      "b 43\n",
      "c ccd\n",
      "nwe value\n",
      "hi 3\n",
      "5 hello\n"
     ]
    }
   ],
   "source": [
    "for i in k:\n",
    "    print (i,k[i])"
   ]
  },
  {
   "cell_type": "code",
   "execution_count": 104,
   "metadata": {},
   "outputs": [],
   "source": [
    "l3=[x**2 for x in range(10)]"
   ]
  },
  {
   "cell_type": "code",
   "execution_count": 105,
   "metadata": {},
   "outputs": [
    {
     "data": {
      "text/plain": [
       "[0, 1, 4, 9, 16, 25, 36, 49, 64, 81]"
      ]
     },
     "execution_count": 105,
     "metadata": {},
     "output_type": "execute_result"
    }
   ],
   "source": [
    "l3"
   ]
  },
  {
   "cell_type": "code",
   "execution_count": 106,
   "metadata": {},
   "outputs": [],
   "source": [
    "s3={item**2 for item in range(1,20,2)}"
   ]
  },
  {
   "cell_type": "code",
   "execution_count": 107,
   "metadata": {},
   "outputs": [
    {
     "data": {
      "text/plain": [
       "{1, 9, 25, 49, 81, 121, 169, 225, 289, 361}"
      ]
     },
     "execution_count": 107,
     "metadata": {},
     "output_type": "execute_result"
    }
   ],
   "source": [
    "s3"
   ]
  },
  {
   "cell_type": "markdown",
   "metadata": {},
   "source": [
    "# \"\"\"\n",
    "let say u r teacher and u have diff student record contain id of a student and marks list in each\n",
    "subject where diff student have taken diff sub all these are in hard copy \n",
    "u want to enter data in computer and want to compute avg marks of student and display\n",
    "\"\"\""
   ]
  },
  {
   "cell_type": "code",
   "execution_count": 109,
   "metadata": {},
   "outputs": [],
   "source": [
    "def getDataFromUser():\n",
    "    d={}\n",
    "    while True:\n",
    "        studentid=input(\"Enter the student id :\")\n",
    "        markslist=input(\"Enter the marks by comma seperated values\")\n",
    "        morestudents=input('enter \"no\" to quit insertion')\n",
    "        if studentid in d:\n",
    "            print(studentid ,\"is alreay exist\")\n",
    "        else:\n",
    "            d[studentid]=markslist.split(\",\")\n",
    "        if morestudents.lower() == \"no\":\n",
    "            return d\n",
    "    "
   ]
  },
  {
   "cell_type": "code",
   "execution_count": 110,
   "metadata": {},
   "outputs": [
    {
     "name": "stdout",
     "output_type": "stream",
     "text": [
      "Enter the student id :45\n",
      "Enter the marks by comma seperated values45,5,22\n",
      "enter \"no\" to quit insertionjngrf\n",
      "Enter the student id :46\n",
      "Enter the marks by comma seperated values48,85,88\n",
      "enter \"no\" to quit insertionno\n"
     ]
    }
   ],
   "source": [
    "studentid=getDataFromUser()"
   ]
  },
  {
   "cell_type": "code",
   "execution_count": 114,
   "metadata": {},
   "outputs": [
    {
     "data": {
      "text/plain": [
       "{'45': ['45', '5', '22'], '46': ['48', '85', '88']}"
      ]
     },
     "execution_count": 114,
     "metadata": {},
     "output_type": "execute_result"
    }
   ],
   "source": [
    "studentid"
   ]
  },
  {
   "cell_type": "code",
   "execution_count": 116,
   "metadata": {},
   "outputs": [],
   "source": [
    "def getavgmarks(d):\n",
    "    avgmarks={}\n",
    "    for x in d:\n",
    "        l=d[x]\n",
    "        s=0\n",
    "        for marks in l:\n",
    "            s=s+int(marks)\n",
    "        avgmarks[x]= s/len(l)  \n",
    "    return avgmarks\n",
    "            \n",
    "\n"
   ]
  },
  {
   "cell_type": "code",
   "execution_count": 117,
   "metadata": {},
   "outputs": [],
   "source": [
    "avg=getavgmarks(studentid)"
   ]
  },
  {
   "cell_type": "code",
   "execution_count": 120,
   "metadata": {},
   "outputs": [
    {
     "name": "stdout",
     "output_type": "stream",
     "text": [
      "student : 45 got an average of : 24.0\n",
      "student : 46 got an average of : 73.66666666666667\n"
     ]
    }
   ],
   "source": [
    "for x in avg:\n",
    "    print(\"student :\",x, \"got an average of :\",avg[x] )"
   ]
  },
  {
   "cell_type": "markdown",
   "metadata": {},
   "source": [
    "# Numpy"
   ]
  },
  {
   "cell_type": "code",
   "execution_count": 2,
   "metadata": {},
   "outputs": [],
   "source": [
    "import numpy as np"
   ]
  },
  {
   "cell_type": "code",
   "execution_count": 6,
   "metadata": {},
   "outputs": [],
   "source": [
    "a = np.array([1,2,3,4])\n",
    "b = np.array((1,2,3,4),dtype=\"f\")"
   ]
  },
  {
   "cell_type": "code",
   "execution_count": 7,
   "metadata": {},
   "outputs": [
    {
     "data": {
      "text/plain": [
       "numpy.ndarray"
      ]
     },
     "execution_count": 7,
     "metadata": {},
     "output_type": "execute_result"
    }
   ],
   "source": [
    "type(a)\n",
    "type(b)"
   ]
  },
  {
   "cell_type": "code",
   "execution_count": 9,
   "metadata": {},
   "outputs": [
    {
     "data": {
      "text/plain": [
       "dtype('float32')"
      ]
     },
     "execution_count": 9,
     "metadata": {},
     "output_type": "execute_result"
    }
   ],
   "source": [
    "a.dtype\n",
    "b.dtype"
   ]
  },
  {
   "cell_type": "code",
   "execution_count": 10,
   "metadata": {},
   "outputs": [],
   "source": [
    "a =np.array([[1,2,3],[4,5,6]])"
   ]
  },
  {
   "cell_type": "code",
   "execution_count": 11,
   "metadata": {},
   "outputs": [
    {
     "data": {
      "text/plain": [
       "2"
      ]
     },
     "execution_count": 11,
     "metadata": {},
     "output_type": "execute_result"
    }
   ],
   "source": [
    "a.ndim"
   ]
  },
  {
   "cell_type": "code",
   "execution_count": 12,
   "metadata": {},
   "outputs": [
    {
     "data": {
      "text/plain": [
       "4"
      ]
     },
     "execution_count": 12,
     "metadata": {},
     "output_type": "execute_result"
    }
   ],
   "source": [
    "a[1,0]"
   ]
  },
  {
   "cell_type": "code",
   "execution_count": 17,
   "metadata": {},
   "outputs": [],
   "source": [
    "b=np.array([[[1,2,3,4],[2,4,5,9],[6,7,9,11]],[[5,6,9,10],[10,15,12,19],[15,47,69,32]]])"
   ]
  },
  {
   "cell_type": "code",
   "execution_count": 18,
   "metadata": {},
   "outputs": [
    {
     "data": {
      "text/plain": [
       "3"
      ]
     },
     "execution_count": 18,
     "metadata": {},
     "output_type": "execute_result"
    }
   ],
   "source": [
    "b.ndim"
   ]
  },
  {
   "cell_type": "code",
   "execution_count": 20,
   "metadata": {},
   "outputs": [
    {
     "data": {
      "text/plain": [
       "15"
      ]
     },
     "execution_count": 20,
     "metadata": {},
     "output_type": "execute_result"
    }
   ],
   "source": [
    "b[1,1,1]"
   ]
  },
  {
   "cell_type": "code",
   "execution_count": 26,
   "metadata": {},
   "outputs": [
    {
     "data": {
      "text/plain": [
       "(2, 3, 4)"
      ]
     },
     "execution_count": 26,
     "metadata": {},
     "output_type": "execute_result"
    }
   ],
   "source": [
    "b.shape"
   ]
  },
  {
   "cell_type": "code",
   "execution_count": 27,
   "metadata": {},
   "outputs": [
    {
     "data": {
      "text/plain": [
       "24"
      ]
     },
     "execution_count": 27,
     "metadata": {},
     "output_type": "execute_result"
    }
   ],
   "source": [
    "b.size"
   ]
  },
  {
   "cell_type": "code",
   "execution_count": 30,
   "metadata": {},
   "outputs": [
    {
     "data": {
      "text/plain": [
       "<memory at 0x000001BB31681130>"
      ]
     },
     "execution_count": 30,
     "metadata": {},
     "output_type": "execute_result"
    }
   ],
   "source": [
    "b.data"
   ]
  },
  {
   "cell_type": "code",
   "execution_count": 33,
   "metadata": {},
   "outputs": [
    {
     "data": {
      "text/plain": [
       "array([ 3,  6,  9, 12, 15, 18, 21, 24, 27, 30, 33, 36, 39, 42, 45, 48, 51,\n",
       "       54, 57, 60, 63, 66, 69, 72, 75, 78, 81, 84, 87, 90, 93, 96, 99])"
      ]
     },
     "execution_count": 33,
     "metadata": {},
     "output_type": "execute_result"
    }
   ],
   "source": [
    "np.arange(3,100,3) # Also as for in range(3,100,3)"
   ]
  },
  {
   "cell_type": "code",
   "execution_count": 35,
   "metadata": {},
   "outputs": [
    {
     "data": {
      "text/plain": [
       "array([ 5, 49,  2, 40,  9, 27, 33, 44,  3,  4, 15, 29, 18, 17, 35,  7,  6,\n",
       "       24, 10, 14, 36, 39, 37, 46, 41, 12, 30, 19, 11, 28,  1, 32, 48, 23,\n",
       "       47, 22, 31, 20, 34,  0, 42, 38, 43, 21, 13,  8, 45, 25, 26, 16])"
      ]
     },
     "execution_count": 35,
     "metadata": {},
     "output_type": "execute_result"
    }
   ],
   "source": [
    "np.random.permutation(np.arange(50))"
   ]
  },
  {
   "cell_type": "code",
   "execution_count": 37,
   "metadata": {},
   "outputs": [
    {
     "data": {
      "text/plain": [
       "int"
      ]
     },
     "execution_count": 37,
     "metadata": {},
     "output_type": "execute_result"
    }
   ],
   "source": [
    "type(np.random.randint(55))"
   ]
  },
  {
   "cell_type": "code",
   "execution_count": 46,
   "metadata": {},
   "outputs": [],
   "source": [
    "a=np.random.randn(10000)"
   ]
  },
  {
   "cell_type": "code",
   "execution_count": 47,
   "metadata": {},
   "outputs": [
    {
     "data": {
      "text/plain": [
       "array([ 0.41394051,  0.57702035, -0.67178354, ...,  0.42884381,\n",
       "       -0.6314549 , -0.18065355])"
      ]
     },
     "execution_count": 47,
     "metadata": {},
     "output_type": "execute_result"
    }
   ],
   "source": [
    "a"
   ]
  },
  {
   "cell_type": "code",
   "execution_count": 44,
   "metadata": {},
   "outputs": [],
   "source": [
    "import matplotlib.pyplot as plt"
   ]
  },
  {
   "cell_type": "code",
   "execution_count": 49,
   "metadata": {},
   "outputs": [
    {
     "data": {
      "text/plain": [
       "(array([  1.,   0.,   1.,   1.,   0.,   1.,   1.,   1.,   2.,   3.,   4.,\n",
       "          3.,   3.,   1.,   1.,   2.,   1.,   1.,   1.,   2.,   4.,   2.,\n",
       "          4.,   2.,   6.,   7.,  11.,   9.,   7.,   5.,  10.,   7.,  10.,\n",
       "          9.,   9.,   9.,  10.,  22.,  16.,  14.,  21.,  18.,  18.,  32.,\n",
       "         18.,  27.,  29.,  25.,  42.,  29.,  40.,  38.,  39.,  47.,  51.,\n",
       "         56.,  55.,  52.,  42.,  57.,  62.,  66.,  45.,  72.,  58.,  67.,\n",
       "         66.,  83.,  84.,  71.,  79.,  88.,  96., 105., 100.,  99., 112.,\n",
       "         94., 101., 125., 117., 114., 124., 119., 129., 131., 121., 134.,\n",
       "        119., 135., 142., 141., 143., 149., 138., 151., 161., 150., 130.,\n",
       "        122., 124., 144., 144., 147., 138., 132., 124., 118., 138., 132.,\n",
       "        135., 131., 122., 114., 147., 106., 128.,  94., 106., 123., 108.,\n",
       "        106.,  86., 100.,  94.,  79.,  75.,  82.,  82.,  67.,  75.,  81.,\n",
       "         62.,  51.,  59.,  67.,  56.,  57.,  49.,  48.,  45.,  46.,  36.,\n",
       "         30.,  44.,  32.,  30.,  33.,  35.,  26.,  24.,  27.,  28.,  18.,\n",
       "         18.,  16.,  17.,  26.,  10.,   9.,  12.,   7.,   6.,  13.,   9.,\n",
       "          5.,   9.,  11.,   8.,   7.,   4.,   4.,   2.,   6.,   4.,   3.,\n",
       "          1.,   3.,   3.,   3.,   3.,   2.,   3.,   2.,   0.,   1.,   1.,\n",
       "          1.,   2.,   0.,   0.,   1.,   0.,   0.,   0.,   0.,   0.,   0.,\n",
       "          0.,   1.]),\n",
       " array([-3.45257096, -3.41713993, -3.3817089 , -3.34627786, -3.31084683,\n",
       "        -3.2754158 , -3.23998477, -3.20455374, -3.16912271, -3.13369168,\n",
       "        -3.09826065, -3.06282962, -3.02739859, -2.99196756, -2.95653652,\n",
       "        -2.92110549, -2.88567446, -2.85024343, -2.8148124 , -2.77938137,\n",
       "        -2.74395034, -2.70851931, -2.67308828, -2.63765725, -2.60222622,\n",
       "        -2.56679519, -2.53136415, -2.49593312, -2.46050209, -2.42507106,\n",
       "        -2.38964003, -2.354209  , -2.31877797, -2.28334694, -2.24791591,\n",
       "        -2.21248488, -2.17705385, -2.14162281, -2.10619178, -2.07076075,\n",
       "        -2.03532972, -1.99989869, -1.96446766, -1.92903663, -1.8936056 ,\n",
       "        -1.85817457, -1.82274354, -1.78731251, -1.75188147, -1.71645044,\n",
       "        -1.68101941, -1.64558838, -1.61015735, -1.57472632, -1.53929529,\n",
       "        -1.50386426, -1.46843323, -1.4330022 , -1.39757117, -1.36214013,\n",
       "        -1.3267091 , -1.29127807, -1.25584704, -1.22041601, -1.18498498,\n",
       "        -1.14955395, -1.11412292, -1.07869189, -1.04326086, -1.00782983,\n",
       "        -0.97239879, -0.93696776, -0.90153673, -0.8661057 , -0.83067467,\n",
       "        -0.79524364, -0.75981261, -0.72438158, -0.68895055, -0.65351952,\n",
       "        -0.61808849, -0.58265746, -0.54722642, -0.51179539, -0.47636436,\n",
       "        -0.44093333, -0.4055023 , -0.37007127, -0.33464024, -0.29920921,\n",
       "        -0.26377818, -0.22834715, -0.19291612, -0.15748508, -0.12205405,\n",
       "        -0.08662302, -0.05119199, -0.01576096,  0.01967007,  0.0551011 ,\n",
       "         0.09053213,  0.12596316,  0.16139419,  0.19682522,  0.23225626,\n",
       "         0.26768729,  0.30311832,  0.33854935,  0.37398038,  0.40941141,\n",
       "         0.44484244,  0.48027347,  0.5157045 ,  0.55113553,  0.58656656,\n",
       "         0.6219976 ,  0.65742863,  0.69285966,  0.72829069,  0.76372172,\n",
       "         0.79915275,  0.83458378,  0.87001481,  0.90544584,  0.94087687,\n",
       "         0.9763079 ,  1.01173893,  1.04716997,  1.082601  ,  1.11803203,\n",
       "         1.15346306,  1.18889409,  1.22432512,  1.25975615,  1.29518718,\n",
       "         1.33061821,  1.36604924,  1.40148027,  1.43691131,  1.47234234,\n",
       "         1.50777337,  1.5432044 ,  1.57863543,  1.61406646,  1.64949749,\n",
       "         1.68492852,  1.72035955,  1.75579058,  1.79122161,  1.82665265,\n",
       "         1.86208368,  1.89751471,  1.93294574,  1.96837677,  2.0038078 ,\n",
       "         2.03923883,  2.07466986,  2.11010089,  2.14553192,  2.18096295,\n",
       "         2.21639399,  2.25182502,  2.28725605,  2.32268708,  2.35811811,\n",
       "         2.39354914,  2.42898017,  2.4644112 ,  2.49984223,  2.53527326,\n",
       "         2.57070429,  2.60613533,  2.64156636,  2.67699739,  2.71242842,\n",
       "         2.74785945,  2.78329048,  2.81872151,  2.85415254,  2.88958357,\n",
       "         2.9250146 ,  2.96044563,  2.99587666,  3.0313077 ,  3.06673873,\n",
       "         3.10216976,  3.13760079,  3.17303182,  3.20846285,  3.24389388,\n",
       "         3.27932491,  3.31475594,  3.35018697,  3.385618  ,  3.42104904,\n",
       "         3.45648007,  3.4919111 ,  3.52734213,  3.56277316,  3.59820419,\n",
       "         3.63363522]),\n",
       " <BarContainer object of 200 artists>)"
      ]
     },
     "execution_count": 49,
     "metadata": {},
     "output_type": "execute_result"
    },
    {
     "data": {
      "image/png": "[encoded data removed]",
      "text/plain": [
       "<Figure size 432x288 with 1 Axes>"
      ]
     },
     "metadata": {
      "needs_background": "light"
     },
     "output_type": "display_data"
    }
   ],
   "source": [
    "plt.hist(a,bins=200)"
   ]
  },
  {
   "cell_type": "code",
   "execution_count": 50,
   "metadata": {},
   "outputs": [],
   "source": [
    "c=np.random.rand(2,2)"
   ]
  },
  {
   "cell_type": "code",
   "execution_count": 51,
   "metadata": {},
   "outputs": [
    {
     "data": {
      "text/plain": [
       "array([[0.57492938, 0.1443602 ],\n",
       "       [0.0805178 , 0.10372047]])"
      ]
     },
     "execution_count": 51,
     "metadata": {},
     "output_type": "execute_result"
    }
   ],
   "source": [
    "c"
   ]
  },
  {
   "cell_type": "code",
   "execution_count": 54,
   "metadata": {},
   "outputs": [],
   "source": [
    "c=np.random.rand(3,2,5)"
   ]
  },
  {
   "cell_type": "code",
   "execution_count": 53,
   "metadata": {},
   "outputs": [
    {
     "data": {
      "text/plain": [
       "array([[[[0.41977407, 0.48184604],\n",
       "         [0.17111394, 0.43960118],\n",
       "         [0.80864781, 0.43899072],\n",
       "         [0.37621513, 0.14469561],\n",
       "         [0.38913715, 0.87846517]],\n",
       "\n",
       "        [[0.34660482, 0.59190565],\n",
       "         [0.29836315, 0.61834058],\n",
       "         [0.9817602 , 0.68037008],\n",
       "         [0.40869289, 0.29437338],\n",
       "         [0.34574362, 0.59640192]]],\n",
       "\n",
       "\n",
       "       [[[0.6894394 , 0.24463144],\n",
       "         [0.7324351 , 0.94327085],\n",
       "         [0.61249951, 0.58928477],\n",
       "         [0.00965254, 0.55309672],\n",
       "         [0.43832166, 0.08407989]],\n",
       "\n",
       "        [[0.72528533, 0.3284862 ],\n",
       "         [0.17038625, 0.13210998],\n",
       "         [0.00742062, 0.46981817],\n",
       "         [0.28612978, 0.67361834],\n",
       "         [0.40232873, 0.05857328]]],\n",
       "\n",
       "\n",
       "       [[[0.23399358, 0.19234179],\n",
       "         [0.95173139, 0.53612625],\n",
       "         [0.5227461 , 0.29503908],\n",
       "         [0.79085214, 0.37997224],\n",
       "         [0.93751228, 0.70391045]],\n",
       "\n",
       "        [[0.81026   , 0.81261505],\n",
       "         [0.46044847, 0.82908379],\n",
       "         [0.93488789, 0.15012098],\n",
       "         [0.89495472, 0.69218404],\n",
       "         [0.04856875, 0.92712199]]]])"
      ]
     },
     "execution_count": 53,
     "metadata": {},
     "output_type": "execute_result"
    }
   ],
   "source": [
    "c"
   ]
  },
  {
   "cell_type": "code",
   "execution_count": 66,
   "metadata": {},
   "outputs": [],
   "source": [
    "d= np.arange(100).reshape(4,5,5)"
   ]
  },
  {
   "cell_type": "code",
   "execution_count": 67,
   "metadata": {},
   "outputs": [
    {
     "data": {
      "text/plain": [
       "(4, 5, 5)"
      ]
     },
     "execution_count": 67,
     "metadata": {},
     "output_type": "execute_result"
    }
   ],
   "source": [
    "d.shape"
   ]
  },
  {
   "cell_type": "code",
   "execution_count": 68,
   "metadata": {},
   "outputs": [
    {
     "data": {
      "text/plain": [
       "array([[[ 0,  1,  2,  3,  4],\n",
       "        [ 5,  6,  7,  8,  9],\n",
       "        [10, 11, 12, 13, 14],\n",
       "        [15, 16, 17, 18, 19],\n",
       "        [20, 21, 22, 23, 24]],\n",
       "\n",
       "       [[25, 26, 27, 28, 29],\n",
       "        [30, 31, 32, 33, 34],\n",
       "        [35, 36, 37, 38, 39],\n",
       "        [40, 41, 42, 43, 44],\n",
       "        [45, 46, 47, 48, 49]],\n",
       "\n",
       "       [[50, 51, 52, 53, 54],\n",
       "        [55, 56, 57, 58, 59],\n",
       "        [60, 61, 62, 63, 64],\n",
       "        [65, 66, 67, 68, 69],\n",
       "        [70, 71, 72, 73, 74]],\n",
       "\n",
       "       [[75, 76, 77, 78, 79],\n",
       "        [80, 81, 82, 83, 84],\n",
       "        [85, 86, 87, 88, 89],\n",
       "        [90, 91, 92, 93, 94],\n",
       "        [95, 96, 97, 98, 99]]])"
      ]
     },
     "execution_count": 68,
     "metadata": {},
     "output_type": "execute_result"
    }
   ],
   "source": [
    "d"
   ]
  },
  {
   "cell_type": "markdown",
   "metadata": {},
   "source": [
    "# Numpy(Slicing)"
   ]
  },
  {
   "cell_type": "code",
   "execution_count": 71,
   "metadata": {},
   "outputs": [
    {
     "data": {
      "text/plain": [
       "array([ 5,  6,  7,  8,  9, 10, 11, 12, 13, 14, 15, 16, 17, 18, 19, 20, 21,\n",
       "       22, 23, 24])"
      ]
     },
     "execution_count": 71,
     "metadata": {},
     "output_type": "execute_result"
    }
   ],
   "source": [
    "A=np.arange(100)\n",
    "b=A[5:25]\n",
    "b"
   ]
  },
  {
   "cell_type": "code",
   "execution_count": 72,
   "metadata": {},
   "outputs": [],
   "source": [
    "b[10] = -100"
   ]
  },
  {
   "cell_type": "code",
   "execution_count": 73,
   "metadata": {},
   "outputs": [
    {
     "data": {
      "text/plain": [
       "array([   5,    6,    7,    8,    9,   10,   11,   12,   13,   14, -100,\n",
       "         16,   17,   18,   19,   20,   21,   22,   23,   24])"
      ]
     },
     "execution_count": 73,
     "metadata": {},
     "output_type": "execute_result"
    }
   ],
   "source": [
    "b"
   ]
  },
  {
   "cell_type": "code",
   "execution_count": 83,
   "metadata": {},
   "outputs": [
    {
     "data": {
      "text/plain": [
       "100"
      ]
     },
     "execution_count": 83,
     "metadata": {},
     "output_type": "execute_result"
    }
   ],
   "source": [
    "A.size"
   ]
  },
  {
   "cell_type": "code",
   "execution_count": 76,
   "metadata": {},
   "outputs": [],
   "source": [
    "b=A[2:25].copy()"
   ]
  },
  {
   "cell_type": "code",
   "execution_count": 77,
   "metadata": {},
   "outputs": [
    {
     "data": {
      "text/plain": [
       "array([   2,    3,    4,    5,    6,    7,    8,    9,   10,   11,   12,\n",
       "         13,   14, -100,   16,   17,   18,   19,   20,   21,   22,   23,\n",
       "         24])"
      ]
     },
     "execution_count": 77,
     "metadata": {},
     "output_type": "execute_result"
    }
   ],
   "source": [
    "b"
   ]
  },
  {
   "cell_type": "code",
   "execution_count": 80,
   "metadata": {},
   "outputs": [
    {
     "data": {
      "text/plain": [
       "array([ 2,  7, 12, 17, 22])"
      ]
     },
     "execution_count": 80,
     "metadata": {},
     "output_type": "execute_result"
    }
   ],
   "source": [
    "b[::5]"
   ]
  },
  {
   "cell_type": "code",
   "execution_count": 81,
   "metadata": {},
   "outputs": [
    {
     "data": {
      "text/plain": [
       "array([   2,    3,    4,    5,    6,    7,    8,    9,   10,   11,   12,\n",
       "         13,   14, -100,   16,   17,   18,   19,   20,   21,   22,   23,\n",
       "         24])"
      ]
     },
     "execution_count": 81,
     "metadata": {},
     "output_type": "execute_result"
    }
   ],
   "source": [
    "b"
   ]
  },
  {
   "cell_type": "code",
   "execution_count": 88,
   "metadata": {},
   "outputs": [],
   "source": [
    "idx = np.argwhere(A==-100)[0][0]"
   ]
  },
  {
   "cell_type": "code",
   "execution_count": 89,
   "metadata": {},
   "outputs": [
    {
     "data": {
      "text/plain": [
       "15"
      ]
     },
     "execution_count": 89,
     "metadata": {},
     "output_type": "execute_result"
    }
   ],
   "source": [
    "idx"
   ]
  },
  {
   "cell_type": "code",
   "execution_count": 90,
   "metadata": {},
   "outputs": [],
   "source": [
    "A[idx]=15"
   ]
  },
  {
   "cell_type": "code",
   "execution_count": 92,
   "metadata": {},
   "outputs": [
    {
     "data": {
      "text/plain": [
       "array([ 0,  1,  2,  3,  4,  5,  6,  7,  8,  9, 10, 11, 12, 13, 14, 15, 16,\n",
       "       17, 18, 19, 20, 21, 22, 23, 24, 25, 26, 27, 28, 29, 30, 31, 32, 33,\n",
       "       34, 35, 36, 37, 38, 39, 40, 41, 42, 43, 44, 45, 46, 47, 48, 49, 50,\n",
       "       51, 52, 53, 54, 55, 56, 57, 58, 59, 60, 61, 62, 63, 64, 65, 66, 67,\n",
       "       68, 69, 70, 71, 72, 73, 74, 75, 76, 77, 78, 79, 80, 81, 82, 83, 84,\n",
       "       85, 86, 87, 88, 89, 90, 91, 92, 93, 94, 95, 96, 97, 98, 99])"
      ]
     },
     "execution_count": 92,
     "metadata": {},
     "output_type": "execute_result"
    }
   ],
   "source": [
    "A"
   ]
  },
  {
   "cell_type": "code",
   "execution_count": 93,
   "metadata": {},
   "outputs": [],
   "source": [
    "A=np.round(10*np.random.rand(5,4))"
   ]
  },
  {
   "cell_type": "code",
   "execution_count": 95,
   "metadata": {},
   "outputs": [
    {
     "data": {
      "text/plain": [
       "array([[ 5.,  7.,  5.,  5.],\n",
       "       [ 2.,  4.,  2.,  9.],\n",
       "       [10.,  1.,  1.,  6.],\n",
       "       [ 2.,  2.,  9.,  6.],\n",
       "       [ 5.,  8.,  3.,  4.]])"
      ]
     },
     "execution_count": 95,
     "metadata": {},
     "output_type": "execute_result"
    }
   ],
   "source": [
    "A"
   ]
  },
  {
   "cell_type": "code",
   "execution_count": 96,
   "metadata": {},
   "outputs": [
    {
     "data": {
      "text/plain": [
       "3.0"
      ]
     },
     "execution_count": 96,
     "metadata": {},
     "output_type": "execute_result"
    }
   ],
   "source": [
    "A[4,2]"
   ]
  },
  {
   "cell_type": "code",
   "execution_count": 100,
   "metadata": {},
   "outputs": [
    {
     "data": {
      "text/plain": [
       "array([2., 4., 2., 9.])"
      ]
     },
     "execution_count": 100,
     "metadata": {},
     "output_type": "execute_result"
    }
   ],
   "source": [
    "A[1,:]"
   ]
  },
  {
   "cell_type": "code",
   "execution_count": 102,
   "metadata": {},
   "outputs": [
    {
     "data": {
      "text/plain": [
       "array([7., 4., 1., 2., 8.])"
      ]
     },
     "execution_count": 102,
     "metadata": {},
     "output_type": "execute_result"
    }
   ],
   "source": [
    "A[:,1]"
   ]
  },
  {
   "cell_type": "code",
   "execution_count": 104,
   "metadata": {},
   "outputs": [
    {
     "data": {
      "text/plain": [
       "array([[2., 9.],\n",
       "       [1., 6.],\n",
       "       [9., 6.]])"
      ]
     },
     "execution_count": 104,
     "metadata": {},
     "output_type": "execute_result"
    }
   ],
   "source": [
    "A[1:4,2:4]"
   ]
  },
  {
   "cell_type": "code",
   "execution_count": 105,
   "metadata": {},
   "outputs": [],
   "source": [
    "A = np.arange(50)"
   ]
  },
  {
   "cell_type": "code",
   "execution_count": 107,
   "metadata": {},
   "outputs": [],
   "source": [
    "b =A[[1,5,10]] #By default copy "
   ]
  },
  {
   "cell_type": "code",
   "execution_count": 108,
   "metadata": {},
   "outputs": [],
   "source": [
    "b[1]=10"
   ]
  },
  {
   "cell_type": "code",
   "execution_count": 110,
   "metadata": {},
   "outputs": [
    {
     "data": {
      "text/plain": [
       "array([ 0,  1,  2,  3,  4,  5,  6,  7,  8,  9, 10, 11, 12, 13, 14, 15, 16,\n",
       "       17, 18, 19, 20, 21, 22, 23, 24, 25, 26, 27, 28, 29, 30, 31, 32, 33,\n",
       "       34, 35, 36, 37, 38, 39, 40, 41, 42, 43, 44, 45, 46, 47, 48, 49])"
      ]
     },
     "execution_count": 110,
     "metadata": {},
     "output_type": "execute_result"
    }
   ],
   "source": [
    "A"
   ]
  },
  {
   "cell_type": "code",
   "execution_count": 111,
   "metadata": {},
   "outputs": [
    {
     "data": {
      "text/plain": [
       "array([ 1, 10, 10])"
      ]
     },
     "execution_count": 111,
     "metadata": {},
     "output_type": "execute_result"
    }
   ],
   "source": [
    "b"
   ]
  },
  {
   "cell_type": "code",
   "execution_count": 113,
   "metadata": {},
   "outputs": [],
   "source": [
    "B=A[A<40]"
   ]
  },
  {
   "cell_type": "code",
   "execution_count": 115,
   "metadata": {},
   "outputs": [
    {
     "data": {
      "text/plain": [
       "array([ 0,  1,  2,  3,  4,  5,  6,  7,  8,  9, 10, 11, 12, 13, 14, 15, 16,\n",
       "       17, 18, 19, 20, 21, 22, 23, 24, 25, 26, 27, 28, 29, 30, 31, 32, 33,\n",
       "       34, 35, 36, 37, 38, 39])"
      ]
     },
     "execution_count": 115,
     "metadata": {},
     "output_type": "execute_result"
    }
   ],
   "source": [
    "B"
   ]
  },
  {
   "cell_type": "code",
   "execution_count": 116,
   "metadata": {},
   "outputs": [],
   "source": [
    "B=A[(A<40) & (A>30)]"
   ]
  },
  {
   "cell_type": "code",
   "execution_count": 117,
   "metadata": {},
   "outputs": [
    {
     "data": {
      "text/plain": [
       "array([31, 32, 33, 34, 35, 36, 37, 38, 39])"
      ]
     },
     "execution_count": 117,
     "metadata": {},
     "output_type": "execute_result"
    }
   ],
   "source": [
    "B"
   ]
  },
  {
   "cell_type": "code",
   "execution_count": 118,
   "metadata": {},
   "outputs": [],
   "source": [
    "# & ,and\n",
    "# /,or\n",
    "#~, not"
   ]
  },
  {
   "cell_type": "code",
   "execution_count": 119,
   "metadata": {},
   "outputs": [],
   "source": [
    "A = np.round(100*np.random.rand(2,3))"
   ]
  },
  {
   "cell_type": "code",
   "execution_count": 120,
   "metadata": {},
   "outputs": [
    {
     "data": {
      "text/plain": [
       "array([[82., 19., 97.],\n",
       "       [89., 86., 92.]])"
      ]
     },
     "execution_count": 120,
     "metadata": {},
     "output_type": "execute_result"
    }
   ],
   "source": [
    "A"
   ]
  },
  {
   "cell_type": "code",
   "execution_count": 121,
   "metadata": {},
   "outputs": [
    {
     "data": {
      "text/plain": [
       "array([[ 87.,  24., 102.],\n",
       "       [ 94.,  91.,  97.]])"
      ]
     },
     "execution_count": 121,
     "metadata": {},
     "output_type": "execute_result"
    }
   ],
   "source": [
    "A+5"
   ]
  },
  {
   "cell_type": "code",
   "execution_count": 122,
   "metadata": {},
   "outputs": [
    {
     "data": {
      "text/plain": [
       "array([0, 1])"
      ]
     },
     "execution_count": 122,
     "metadata": {},
     "output_type": "execute_result"
    }
   ],
   "source": [
    "np.arange(2)"
   ]
  },
  {
   "cell_type": "code",
   "execution_count": 124,
   "metadata": {},
   "outputs": [],
   "source": [
    "B=A+(np.arange(2).reshape(2,1))"
   ]
  },
  {
   "cell_type": "code",
   "execution_count": 125,
   "metadata": {},
   "outputs": [],
   "source": [
    "C=np.hstack((A,B))"
   ]
  },
  {
   "cell_type": "code",
   "execution_count": 126,
   "metadata": {},
   "outputs": [
    {
     "data": {
      "text/plain": [
       "array([[[0.00505466, 0.71245523, 0.37559836, 0.97963925, 0.25173639],\n",
       "        [0.31273509, 0.65517078, 0.59714924, 0.25979881, 0.71079562]],\n",
       "\n",
       "       [[0.56637704, 0.10575016, 0.61212566, 0.27751415, 0.61544648],\n",
       "        [0.41643037, 0.25660722, 0.7429059 , 0.06456   , 0.82569925]],\n",
       "\n",
       "       [[0.35465433, 0.54660092, 0.9648921 , 0.57834111, 0.1288935 ],\n",
       "        [0.53537694, 0.80964915, 0.68350445, 0.27220425, 0.90394547]]])"
      ]
     },
     "execution_count": 126,
     "metadata": {},
     "output_type": "execute_result"
    }
   ],
   "source": [
    "c"
   ]
  },
  {
   "cell_type": "code",
   "execution_count": 129,
   "metadata": {},
   "outputs": [],
   "source": [
    "D=np.random.permutation(np.arange(20))"
   ]
  },
  {
   "cell_type": "code",
   "execution_count": 130,
   "metadata": {},
   "outputs": [
    {
     "data": {
      "text/plain": [
       "array([10,  4,  0, 13,  7, 15,  8, 12, 14,  6,  1, 16,  9,  3, 19,  2, 11,\n",
       "        5, 18, 17])"
      ]
     },
     "execution_count": 130,
     "metadata": {},
     "output_type": "execute_result"
    }
   ],
   "source": [
    "D"
   ]
  },
  {
   "cell_type": "code",
   "execution_count": 132,
   "metadata": {},
   "outputs": [],
   "source": [
    "D.sort()"
   ]
  },
  {
   "cell_type": "code",
   "execution_count": 133,
   "metadata": {},
   "outputs": [
    {
     "data": {
      "text/plain": [
       "array([ 0,  1,  2,  3,  4,  5,  6,  7,  8,  9, 10, 11, 12, 13, 14, 15, 16,\n",
       "       17, 18, 19])"
      ]
     },
     "execution_count": 133,
     "metadata": {},
     "output_type": "execute_result"
    }
   ],
   "source": [
    "D"
   ]
  },
  {
   "cell_type": "code",
   "execution_count": 134,
   "metadata": {},
   "outputs": [
    {
     "data": {
      "text/plain": [
       "array([19, 18, 17, 16, 15, 14, 13, 12, 11, 10,  9,  8,  7,  6,  5,  4,  3,\n",
       "        2,  1,  0])"
      ]
     },
     "execution_count": 134,
     "metadata": {},
     "output_type": "execute_result"
    }
   ],
   "source": [
    "D[::-1]"
   ]
  },
  {
   "cell_type": "code",
   "execution_count": 138,
   "metadata": {},
   "outputs": [
    {
     "name": "stdout",
     "output_type": "stream",
     "text": [
      "1.76 s ± 38.2 ms per loop (mean ± std. dev. of 7 runs, 1 loop each)\n",
      "11.9 ms ± 39.4 µs per loop (mean ± std. dev. of 7 runs, 100 loops each)\n"
     ]
    }
   ],
   "source": [
    "B =np.random.rand(10000000)\n",
    "%timeit sum(B)\n",
    "%timeit np.sum(B)"
   ]
  },
  {
   "cell_type": "code",
   "execution_count": 137,
   "metadata": {},
   "outputs": [
    {
     "data": {
      "text/plain": [
       "array([0.27280282, 0.10342033, 0.89286346, ..., 0.78744357, 0.25113225,\n",
       "       0.09268483])"
      ]
     },
     "execution_count": 137,
     "metadata": {},
     "output_type": "execute_result"
    }
   ],
   "source": [
    "B"
   ]
  },
  {
   "cell_type": "code",
   "execution_count": 139,
   "metadata": {},
   "outputs": [],
   "source": [
    "def mysum(G):\n",
    "    s=0\n",
    "    for x in G:\n",
    "        s=s+x\n",
    "    return s\n",
    "          "
   ]
  },
  {
   "cell_type": "code",
   "execution_count": 140,
   "metadata": {},
   "outputs": [
    {
     "name": "stdout",
     "output_type": "stream",
     "text": [
      "2.71 s ± 179 ms per loop (mean ± std. dev. of 7 runs, 1 loop each)\n"
     ]
    }
   ],
   "source": [
    "%timeit mysum(B)"
   ]
  },
  {
   "cell_type": "markdown",
   "metadata": {},
   "source": [
    "# Pandas"
   ]
  },
  {
   "cell_type": "code",
   "execution_count": 141,
   "metadata": {},
   "outputs": [],
   "source": [
    "import pandas as pd"
   ]
  },
  {
   "cell_type": "code",
   "execution_count": 142,
   "metadata": {},
   "outputs": [
    {
     "name": "stdout",
     "output_type": "stream",
     "text": [
      "1.1.3\n"
     ]
    }
   ],
   "source": [
    "print(pd.__version__)"
   ]
  },
  {
   "cell_type": "code",
   "execution_count": 144,
   "metadata": {},
   "outputs": [],
   "source": [
    "A = pd.Series([1,2,3,4],index=['a','b','c','d'])"
   ]
  },
  {
   "cell_type": "code",
   "execution_count": 145,
   "metadata": {},
   "outputs": [
    {
     "data": {
      "text/plain": [
       "array([1, 2, 3, 4], dtype=int64)"
      ]
     },
     "execution_count": 145,
     "metadata": {},
     "output_type": "execute_result"
    }
   ],
   "source": [
    "A.values"
   ]
  },
  {
   "cell_type": "code",
   "execution_count": 148,
   "metadata": {},
   "outputs": [
    {
     "data": {
      "text/plain": [
       "numpy.ndarray"
      ]
     },
     "execution_count": 148,
     "metadata": {},
     "output_type": "execute_result"
    }
   ],
   "source": [
    "type(A.values)"
   ]
  },
  {
   "cell_type": "code",
   "execution_count": 149,
   "metadata": {},
   "outputs": [
    {
     "data": {
      "text/plain": [
       "Index(['a', 'b', 'c', 'd'], dtype='object')"
      ]
     },
     "execution_count": 149,
     "metadata": {},
     "output_type": "execute_result"
    }
   ],
   "source": [
    "A.index"
   ]
  },
  {
   "cell_type": "code",
   "execution_count": 151,
   "metadata": {},
   "outputs": [],
   "source": [
    "A['d']='c'"
   ]
  },
  {
   "cell_type": "code",
   "execution_count": 152,
   "metadata": {},
   "outputs": [
    {
     "data": {
      "text/plain": [
       "array([1, 2, 3, 'c'], dtype=object)"
      ]
     },
     "execution_count": 152,
     "metadata": {},
     "output_type": "execute_result"
    }
   ],
   "source": [
    "A.values"
   ]
  },
  {
   "cell_type": "code",
   "execution_count": 153,
   "metadata": {},
   "outputs": [
    {
     "data": {
      "text/plain": [
       "a    1\n",
       "b    2\n",
       "c    3\n",
       "d    c\n",
       "dtype: object"
      ]
     },
     "execution_count": 153,
     "metadata": {},
     "output_type": "execute_result"
    }
   ],
   "source": [
    "A['a':'d']"
   ]
  },
  {
   "cell_type": "code",
   "execution_count": 220,
   "metadata": {},
   "outputs": [],
   "source": [
    "Grades={\"a\":8.5,'b':8.2,\"c\":9.5,'d':7.5}"
   ]
  },
  {
   "cell_type": "code",
   "execution_count": 221,
   "metadata": {},
   "outputs": [],
   "source": [
    "Grades1=pd.Series(Grades)"
   ]
  },
  {
   "cell_type": "code",
   "execution_count": 222,
   "metadata": {},
   "outputs": [
    {
     "data": {
      "text/plain": [
       "dict_values([8.5, 8.2, 9.5, 7.5])"
      ]
     },
     "execution_count": 222,
     "metadata": {},
     "output_type": "execute_result"
    }
   ],
   "source": [
    "Grades.values()"
   ]
  },
  {
   "cell_type": "code",
   "execution_count": 223,
   "metadata": {},
   "outputs": [],
   "source": [
    "marks_dict={'a':85,'b':75,'c':65,'d':55}"
   ]
  },
  {
   "cell_type": "code",
   "execution_count": 224,
   "metadata": {},
   "outputs": [],
   "source": [
    "marks=pd.Series(marks_dict)"
   ]
  },
  {
   "cell_type": "code",
   "execution_count": 225,
   "metadata": {},
   "outputs": [
    {
     "data": {
      "text/plain": [
       "array([85, 75, 65, 55], dtype=int64)"
      ]
     },
     "execution_count": 225,
     "metadata": {},
     "output_type": "execute_result"
    }
   ],
   "source": [
    "marks.values"
   ]
  },
  {
   "cell_type": "code",
   "execution_count": 226,
   "metadata": {},
   "outputs": [
    {
     "data": {
      "text/plain": [
       "a    85\n",
       "b    75\n",
       "c    65\n",
       "dtype: int64"
      ]
     },
     "execution_count": 226,
     "metadata": {},
     "output_type": "execute_result"
    }
   ],
   "source": [
    "marks[0:3]"
   ]
  },
  {
   "cell_type": "code",
   "execution_count": 227,
   "metadata": {},
   "outputs": [
    {
     "data": {
      "text/plain": [
       "a    85\n",
       "b    75\n",
       "c    65\n",
       "d    55\n",
       "dtype: int64"
      ]
     },
     "execution_count": 227,
     "metadata": {},
     "output_type": "execute_result"
    }
   ],
   "source": [
    "marks"
   ]
  },
  {
   "cell_type": "code",
   "execution_count": null,
   "metadata": {},
   "outputs": [],
   "source": []
  },
  {
   "cell_type": "code",
   "execution_count": 228,
   "metadata": {},
   "outputs": [
    {
     "data": {
      "text/plain": [
       "{'a': 8.5, 'b': 8.2, 'c': 9.5, 'd': 7.5}"
      ]
     },
     "execution_count": 228,
     "metadata": {},
     "output_type": "execute_result"
    }
   ],
   "source": [
    "Grades"
   ]
  },
  {
   "cell_type": "code",
   "execution_count": 244,
   "metadata": {},
   "outputs": [],
   "source": [
    "D=pd.DataFrame({\"MARKS\":marks,\"GRADES\":Grades})"
   ]
  },
  {
   "cell_type": "code",
   "execution_count": 245,
   "metadata": {},
   "outputs": [
    {
     "data": {
      "text/html": [
       "<div>\n",
       "<style scoped>\n",
       "    .dataframe tbody tr th:only-of-type {\n",
       "        vertical-align: middle;\n",
       "    }\n",
       "\n",
       "    .dataframe tbody tr th {\n",
       "        vertical-align: top;\n",
       "    }\n",
       "\n",
       "    .dataframe thead th {\n",
       "        text-align: right;\n",
       "    }\n",
       "</style>\n",
       "<table border=\"1\" class=\"dataframe\">\n",
       "  <thead>\n",
       "    <tr style=\"text-align: right;\">\n",
       "      <th></th>\n",
       "      <th>MARKS</th>\n",
       "      <th>GRADES</th>\n",
       "    </tr>\n",
       "  </thead>\n",
       "  <tbody>\n",
       "    <tr>\n",
       "      <th>a</th>\n",
       "      <td>85</td>\n",
       "      <td>8.5</td>\n",
       "    </tr>\n",
       "    <tr>\n",
       "      <th>b</th>\n",
       "      <td>75</td>\n",
       "      <td>8.2</td>\n",
       "    </tr>\n",
       "    <tr>\n",
       "      <th>c</th>\n",
       "      <td>65</td>\n",
       "      <td>9.5</td>\n",
       "    </tr>\n",
       "    <tr>\n",
       "      <th>d</th>\n",
       "      <td>55</td>\n",
       "      <td>7.5</td>\n",
       "    </tr>\n",
       "  </tbody>\n",
       "</table>\n",
       "</div>"
      ],
      "text/plain": [
       "   MARKS  GRADES\n",
       "a     85     8.5\n",
       "b     75     8.2\n",
       "c     65     9.5\n",
       "d     55     7.5"
      ]
     },
     "execution_count": 245,
     "metadata": {},
     "output_type": "execute_result"
    }
   ],
   "source": [
    "D"
   ]
  },
  {
   "cell_type": "code",
   "execution_count": 233,
   "metadata": {},
   "outputs": [],
   "source": [
    "D['scaled marks']= 100*(D['MARKS']/90)"
   ]
  },
  {
   "cell_type": "code",
   "execution_count": 234,
   "metadata": {},
   "outputs": [
    {
     "data": {
      "text/html": [
       "<div>\n",
       "<style scoped>\n",
       "    .dataframe tbody tr th:only-of-type {\n",
       "        vertical-align: middle;\n",
       "    }\n",
       "\n",
       "    .dataframe tbody tr th {\n",
       "        vertical-align: top;\n",
       "    }\n",
       "\n",
       "    .dataframe thead th {\n",
       "        text-align: right;\n",
       "    }\n",
       "</style>\n",
       "<table border=\"1\" class=\"dataframe\">\n",
       "  <thead>\n",
       "    <tr style=\"text-align: right;\">\n",
       "      <th></th>\n",
       "      <th>MARKS</th>\n",
       "      <th>GRADES</th>\n",
       "      <th>scaled marks</th>\n",
       "    </tr>\n",
       "  </thead>\n",
       "  <tbody>\n",
       "    <tr>\n",
       "      <th>a</th>\n",
       "      <td>85</td>\n",
       "      <td>8.5</td>\n",
       "      <td>94.444444</td>\n",
       "    </tr>\n",
       "    <tr>\n",
       "      <th>b</th>\n",
       "      <td>75</td>\n",
       "      <td>8.2</td>\n",
       "      <td>83.333333</td>\n",
       "    </tr>\n",
       "    <tr>\n",
       "      <th>c</th>\n",
       "      <td>65</td>\n",
       "      <td>9.5</td>\n",
       "      <td>72.222222</td>\n",
       "    </tr>\n",
       "    <tr>\n",
       "      <th>d</th>\n",
       "      <td>55</td>\n",
       "      <td>7.5</td>\n",
       "      <td>61.111111</td>\n",
       "    </tr>\n",
       "  </tbody>\n",
       "</table>\n",
       "</div>"
      ],
      "text/plain": [
       "   MARKS  GRADES  scaled marks\n",
       "a     85     8.5     94.444444\n",
       "b     75     8.2     83.333333\n",
       "c     65     9.5     72.222222\n",
       "d     55     7.5     61.111111"
      ]
     },
     "execution_count": 234,
     "metadata": {},
     "output_type": "execute_result"
    }
   ],
   "source": [
    "D"
   ]
  },
  {
   "cell_type": "code",
   "execution_count": 236,
   "metadata": {},
   "outputs": [],
   "source": [
    "del D[\"scaled marks\"]"
   ]
  },
  {
   "cell_type": "code",
   "execution_count": 237,
   "metadata": {},
   "outputs": [
    {
     "data": {
      "text/html": [
       "<div>\n",
       "<style scoped>\n",
       "    .dataframe tbody tr th:only-of-type {\n",
       "        vertical-align: middle;\n",
       "    }\n",
       "\n",
       "    .dataframe tbody tr th {\n",
       "        vertical-align: top;\n",
       "    }\n",
       "\n",
       "    .dataframe thead th {\n",
       "        text-align: right;\n",
       "    }\n",
       "</style>\n",
       "<table border=\"1\" class=\"dataframe\">\n",
       "  <thead>\n",
       "    <tr style=\"text-align: right;\">\n",
       "      <th></th>\n",
       "      <th>MARKS</th>\n",
       "      <th>GRADES</th>\n",
       "    </tr>\n",
       "  </thead>\n",
       "  <tbody>\n",
       "    <tr>\n",
       "      <th>a</th>\n",
       "      <td>85</td>\n",
       "      <td>8.5</td>\n",
       "    </tr>\n",
       "    <tr>\n",
       "      <th>b</th>\n",
       "      <td>75</td>\n",
       "      <td>8.2</td>\n",
       "    </tr>\n",
       "    <tr>\n",
       "      <th>c</th>\n",
       "      <td>65</td>\n",
       "      <td>9.5</td>\n",
       "    </tr>\n",
       "    <tr>\n",
       "      <th>d</th>\n",
       "      <td>55</td>\n",
       "      <td>7.5</td>\n",
       "    </tr>\n",
       "  </tbody>\n",
       "</table>\n",
       "</div>"
      ],
      "text/plain": [
       "   MARKS  GRADES\n",
       "a     85     8.5\n",
       "b     75     8.2\n",
       "c     65     9.5\n",
       "d     55     7.5"
      ]
     },
     "execution_count": 237,
     "metadata": {},
     "output_type": "execute_result"
    }
   ],
   "source": [
    "D"
   ]
  },
  {
   "cell_type": "code",
   "execution_count": 238,
   "metadata": {},
   "outputs": [],
   "source": [
    "G=D[D['MARKS']<70]"
   ]
  },
  {
   "cell_type": "code",
   "execution_count": 239,
   "metadata": {},
   "outputs": [
    {
     "data": {
      "text/html": [
       "<div>\n",
       "<style scoped>\n",
       "    .dataframe tbody tr th:only-of-type {\n",
       "        vertical-align: middle;\n",
       "    }\n",
       "\n",
       "    .dataframe tbody tr th {\n",
       "        vertical-align: top;\n",
       "    }\n",
       "\n",
       "    .dataframe thead th {\n",
       "        text-align: right;\n",
       "    }\n",
       "</style>\n",
       "<table border=\"1\" class=\"dataframe\">\n",
       "  <thead>\n",
       "    <tr style=\"text-align: right;\">\n",
       "      <th></th>\n",
       "      <th>MARKS</th>\n",
       "      <th>GRADES</th>\n",
       "    </tr>\n",
       "  </thead>\n",
       "  <tbody>\n",
       "    <tr>\n",
       "      <th>c</th>\n",
       "      <td>65</td>\n",
       "      <td>9.5</td>\n",
       "    </tr>\n",
       "    <tr>\n",
       "      <th>d</th>\n",
       "      <td>55</td>\n",
       "      <td>7.5</td>\n",
       "    </tr>\n",
       "  </tbody>\n",
       "</table>\n",
       "</div>"
      ],
      "text/plain": [
       "   MARKS  GRADES\n",
       "c     65     9.5\n",
       "d     55     7.5"
      ]
     },
     "execution_count": 239,
     "metadata": {},
     "output_type": "execute_result"
    }
   ],
   "source": [
    "G"
   ]
  },
  {
   "cell_type": "code",
   "execution_count": 247,
   "metadata": {},
   "outputs": [
    {
     "ename": "AttributeError",
     "evalue": "module 'pandas' has no attribute 'series'",
     "output_type": "error",
     "traceback": [
      "\u001b[1;31m---------------------------------------------------------------------------\u001b[0m",
      "\u001b[1;31mAttributeError\u001b[0m                            Traceback (most recent call last)",
      "\u001b[1;32m<ipython-input-247-73c8157a37fb>\u001b[0m in \u001b[0;36m<module>\u001b[1;34m\u001b[0m\n\u001b[1;32m----> 1\u001b[1;33m \u001b[0mA\u001b[0m\u001b[1;33m=\u001b[0m\u001b[0mpd\u001b[0m\u001b[1;33m.\u001b[0m\u001b[0mseries\u001b[0m\u001b[1;33m(\u001b[0m\u001b[1;33m[\u001b[0m\u001b[1;34m'a'\u001b[0m\u001b[1;33m,\u001b[0m\u001b[1;34m'b'\u001b[0m\u001b[1;33m,\u001b[0m\u001b[1;34m'c'\u001b[0m\u001b[1;33m]\u001b[0m\u001b[1;33m,\u001b[0m\u001b[0mindex\u001b[0m\u001b[1;33m=\u001b[0m\u001b[1;33m[\u001b[0m\u001b[1;36m1\u001b[0m\u001b[1;33m,\u001b[0m\u001b[1;36m2\u001b[0m\u001b[1;33m,\u001b[0m\u001b[1;36m3\u001b[0m\u001b[1;33m]\u001b[0m\u001b[1;33m)\u001b[0m\u001b[1;33m\u001b[0m\u001b[1;33m\u001b[0m\u001b[0m\n\u001b[0m",
      "\u001b[1;32m~\\anaconda3\\lib\\site-packages\\pandas\\__init__.py\u001b[0m in \u001b[0;36m__getattr__\u001b[1;34m(name)\u001b[0m\n\u001b[0;32m    256\u001b[0m             \u001b[1;32mreturn\u001b[0m \u001b[0m_SparseArray\u001b[0m\u001b[1;33m\u001b[0m\u001b[1;33m\u001b[0m\u001b[0m\n\u001b[0;32m    257\u001b[0m \u001b[1;33m\u001b[0m\u001b[0m\n\u001b[1;32m--> 258\u001b[1;33m         \u001b[1;32mraise\u001b[0m \u001b[0mAttributeError\u001b[0m\u001b[1;33m(\u001b[0m\u001b[1;34mf\"module 'pandas' has no attribute '{name}'\"\u001b[0m\u001b[1;33m)\u001b[0m\u001b[1;33m\u001b[0m\u001b[1;33m\u001b[0m\u001b[0m\n\u001b[0m\u001b[0;32m    259\u001b[0m \u001b[1;33m\u001b[0m\u001b[0m\n\u001b[0;32m    260\u001b[0m \u001b[1;33m\u001b[0m\u001b[0m\n",
      "\u001b[1;31mAttributeError\u001b[0m: module 'pandas' has no attribute 'series'"
     ]
    }
   ],
   "source": [
    "A=pd.Series(['a','b','c'],index=[1,2,3])"
   ]
  },
  {
   "cell_type": "code",
   "execution_count": 241,
   "metadata": {},
   "outputs": [
    {
     "data": {
      "text/html": [
       "<div>\n",
       "<style scoped>\n",
       "    .dataframe tbody tr th:only-of-type {\n",
       "        vertical-align: middle;\n",
       "    }\n",
       "\n",
       "    .dataframe tbody tr th {\n",
       "        vertical-align: top;\n",
       "    }\n",
       "\n",
       "    .dataframe thead th {\n",
       "        text-align: right;\n",
       "    }\n",
       "</style>\n",
       "<table border=\"1\" class=\"dataframe\">\n",
       "  <thead>\n",
       "    <tr style=\"text-align: right;\">\n",
       "      <th></th>\n",
       "      <th>a</th>\n",
       "      <th>b</th>\n",
       "      <th>c</th>\n",
       "    </tr>\n",
       "  </thead>\n",
       "  <tbody>\n",
       "    <tr>\n",
       "      <th>0</th>\n",
       "      <td>1.0</td>\n",
       "      <td>4</td>\n",
       "      <td>NaN</td>\n",
       "    </tr>\n",
       "    <tr>\n",
       "      <th>1</th>\n",
       "      <td>NaN</td>\n",
       "      <td>-3</td>\n",
       "      <td>9.0</td>\n",
       "    </tr>\n",
       "  </tbody>\n",
       "</table>\n",
       "</div>"
      ],
      "text/plain": [
       "     a  b    c\n",
       "0  1.0  4  NaN\n",
       "1  NaN -3  9.0"
      ]
     },
     "execution_count": 241,
     "metadata": {},
     "output_type": "execute_result"
    }
   ],
   "source": [
    "A"
   ]
  },
  {
   "cell_type": "code",
   "execution_count": 246,
   "metadata": {},
   "outputs": [
    {
     "data": {
      "text/html": [
       "<div>\n",
       "<style scoped>\n",
       "    .dataframe tbody tr th:only-of-type {\n",
       "        vertical-align: middle;\n",
       "    }\n",
       "\n",
       "    .dataframe tbody tr th {\n",
       "        vertical-align: top;\n",
       "    }\n",
       "\n",
       "    .dataframe thead th {\n",
       "        text-align: right;\n",
       "    }\n",
       "</style>\n",
       "<table border=\"1\" class=\"dataframe\">\n",
       "  <thead>\n",
       "    <tr style=\"text-align: right;\">\n",
       "      <th></th>\n",
       "      <th>a</th>\n",
       "      <th>b</th>\n",
       "      <th>c</th>\n",
       "    </tr>\n",
       "  </thead>\n",
       "  <tbody>\n",
       "    <tr>\n",
       "      <th>0</th>\n",
       "      <td>1.0</td>\n",
       "      <td>4</td>\n",
       "      <td>5.0</td>\n",
       "    </tr>\n",
       "    <tr>\n",
       "      <th>1</th>\n",
       "      <td>5.0</td>\n",
       "      <td>-3</td>\n",
       "      <td>9.0</td>\n",
       "    </tr>\n",
       "  </tbody>\n",
       "</table>\n",
       "</div>"
      ],
      "text/plain": [
       "     a  b    c\n",
       "0  1.0  4  5.0\n",
       "1  5.0 -3  9.0"
      ]
     },
     "execution_count": 246,
     "metadata": {},
     "output_type": "execute_result"
    }
   ],
   "source": [
    "A.fillna(5)"
   ]
  },
  {
   "cell_type": "code",
   "execution_count": 248,
   "metadata": {},
   "outputs": [],
   "source": [
    "A=pd.Series(['a','b','c'],index=[1,2,3])"
   ]
  },
  {
   "cell_type": "code",
   "execution_count": 249,
   "metadata": {},
   "outputs": [
    {
     "data": {
      "text/plain": [
       "'a'"
      ]
     },
     "execution_count": 249,
     "metadata": {},
     "output_type": "execute_result"
    }
   ],
   "source": [
    "A[1]"
   ]
  },
  {
   "cell_type": "code",
   "execution_count": 250,
   "metadata": {},
   "outputs": [
    {
     "data": {
      "text/plain": [
       "2    b\n",
       "3    c\n",
       "dtype: object"
      ]
     },
     "execution_count": 250,
     "metadata": {},
     "output_type": "execute_result"
    }
   ],
   "source": [
    "A[1:3]"
   ]
  },
  {
   "cell_type": "code",
   "execution_count": 251,
   "metadata": {},
   "outputs": [
    {
     "data": {
      "text/plain": [
       "1    a\n",
       "2    b\n",
       "3    c\n",
       "dtype: object"
      ]
     },
     "execution_count": 251,
     "metadata": {},
     "output_type": "execute_result"
    }
   ],
   "source": [
    "A.loc[1:3]"
   ]
  },
  {
   "cell_type": "code",
   "execution_count": 252,
   "metadata": {},
   "outputs": [
    {
     "data": {
      "text/plain": [
       "2    b\n",
       "3    c\n",
       "dtype: object"
      ]
     },
     "execution_count": 252,
     "metadata": {},
     "output_type": "execute_result"
    }
   ],
   "source": [
    "A.iloc[1:3]"
   ]
  },
  {
   "cell_type": "code",
   "execution_count": 253,
   "metadata": {},
   "outputs": [
    {
     "data": {
      "text/html": [
       "<div>\n",
       "<style scoped>\n",
       "    .dataframe tbody tr th:only-of-type {\n",
       "        vertical-align: middle;\n",
       "    }\n",
       "\n",
       "    .dataframe tbody tr th {\n",
       "        vertical-align: top;\n",
       "    }\n",
       "\n",
       "    .dataframe thead th {\n",
       "        text-align: right;\n",
       "    }\n",
       "</style>\n",
       "<table border=\"1\" class=\"dataframe\">\n",
       "  <thead>\n",
       "    <tr style=\"text-align: right;\">\n",
       "      <th></th>\n",
       "      <th>MARKS</th>\n",
       "      <th>GRADES</th>\n",
       "    </tr>\n",
       "  </thead>\n",
       "  <tbody>\n",
       "    <tr>\n",
       "      <th>a</th>\n",
       "      <td>85</td>\n",
       "      <td>8.5</td>\n",
       "    </tr>\n",
       "    <tr>\n",
       "      <th>b</th>\n",
       "      <td>75</td>\n",
       "      <td>8.2</td>\n",
       "    </tr>\n",
       "    <tr>\n",
       "      <th>c</th>\n",
       "      <td>65</td>\n",
       "      <td>9.5</td>\n",
       "    </tr>\n",
       "    <tr>\n",
       "      <th>d</th>\n",
       "      <td>55</td>\n",
       "      <td>7.5</td>\n",
       "    </tr>\n",
       "  </tbody>\n",
       "</table>\n",
       "</div>"
      ],
      "text/plain": [
       "   MARKS  GRADES\n",
       "a     85     8.5\n",
       "b     75     8.2\n",
       "c     65     9.5\n",
       "d     55     7.5"
      ]
     },
     "execution_count": 253,
     "metadata": {},
     "output_type": "execute_result"
    }
   ],
   "source": [
    "D"
   ]
  },
  {
   "cell_type": "code",
   "execution_count": 259,
   "metadata": {},
   "outputs": [
    {
     "data": {
      "text/html": [
       "<div>\n",
       "<style scoped>\n",
       "    .dataframe tbody tr th:only-of-type {\n",
       "        vertical-align: middle;\n",
       "    }\n",
       "\n",
       "    .dataframe tbody tr th {\n",
       "        vertical-align: top;\n",
       "    }\n",
       "\n",
       "    .dataframe thead th {\n",
       "        text-align: right;\n",
       "    }\n",
       "</style>\n",
       "<table border=\"1\" class=\"dataframe\">\n",
       "  <thead>\n",
       "    <tr style=\"text-align: right;\">\n",
       "      <th></th>\n",
       "      <th>MARKS</th>\n",
       "      <th>GRADES</th>\n",
       "    </tr>\n",
       "  </thead>\n",
       "  <tbody>\n",
       "    <tr>\n",
       "      <th>d</th>\n",
       "      <td>55</td>\n",
       "      <td>7.5</td>\n",
       "    </tr>\n",
       "    <tr>\n",
       "      <th>c</th>\n",
       "      <td>65</td>\n",
       "      <td>9.5</td>\n",
       "    </tr>\n",
       "    <tr>\n",
       "      <th>b</th>\n",
       "      <td>75</td>\n",
       "      <td>8.2</td>\n",
       "    </tr>\n",
       "    <tr>\n",
       "      <th>a</th>\n",
       "      <td>85</td>\n",
       "      <td>8.5</td>\n",
       "    </tr>\n",
       "  </tbody>\n",
       "</table>\n",
       "</div>"
      ],
      "text/plain": [
       "   MARKS  GRADES\n",
       "d     55     7.5\n",
       "c     65     9.5\n",
       "b     75     8.2\n",
       "a     85     8.5"
      ]
     },
     "execution_count": 259,
     "metadata": {},
     "output_type": "execute_result"
    }
   ],
   "source": [
    "D.iloc[::-1]"
   ]
  },
  {
   "cell_type": "code",
   "execution_count": 260,
   "metadata": {},
   "outputs": [],
   "source": [
    "from sklearn.impute import SimpleImputer"
   ]
  },
  {
   "cell_type": "code",
   "execution_count": 262,
   "metadata": {},
   "outputs": [],
   "source": [
    "df=pd.read_csv(\"C:/Users/Lenovo/Downloads/RAW_us_confirmed_cases.csv\")"
   ]
  },
  {
   "cell_type": "code",
   "execution_count": 264,
   "metadata": {},
   "outputs": [
    {
     "data": {
      "text/html": [
       "<div>\n",
       "<style scoped>\n",
       "    .dataframe tbody tr th:only-of-type {\n",
       "        vertical-align: middle;\n",
       "    }\n",
       "\n",
       "    .dataframe tbody tr th {\n",
       "        vertical-align: top;\n",
       "    }\n",
       "\n",
       "    .dataframe thead th {\n",
       "        text-align: right;\n",
       "    }\n",
       "</style>\n",
       "<table border=\"1\" class=\"dataframe\">\n",
       "  <thead>\n",
       "    <tr style=\"text-align: right;\">\n",
       "      <th></th>\n",
       "      <th>Province_State</th>\n",
       "      <th>Admin2</th>\n",
       "      <th>UID</th>\n",
       "      <th>iso2</th>\n",
       "      <th>iso3</th>\n",
       "      <th>code3</th>\n",
       "      <th>FIPS</th>\n",
       "      <th>Country_Region</th>\n",
       "      <th>Lat</th>\n",
       "      <th>Long_</th>\n",
       "      <th>...</th>\n",
       "      <th>5/18/21</th>\n",
       "      <th>5/19/21</th>\n",
       "      <th>5/20/21</th>\n",
       "      <th>5/21/21</th>\n",
       "      <th>5/22/21</th>\n",
       "      <th>5/23/21</th>\n",
       "      <th>5/24/21</th>\n",
       "      <th>5/25/21</th>\n",
       "      <th>5/26/21</th>\n",
       "      <th>5/27/21</th>\n",
       "    </tr>\n",
       "  </thead>\n",
       "  <tbody>\n",
       "    <tr>\n",
       "      <th>0</th>\n",
       "      <td>Alabama</td>\n",
       "      <td>Autauga</td>\n",
       "      <td>84001001</td>\n",
       "      <td>US</td>\n",
       "      <td>USA</td>\n",
       "      <td>840</td>\n",
       "      <td>1001.0</td>\n",
       "      <td>US</td>\n",
       "      <td>32.539527</td>\n",
       "      <td>-86.644082</td>\n",
       "      <td>...</td>\n",
       "      <td>7015</td>\n",
       "      <td>7017</td>\n",
       "      <td>7049</td>\n",
       "      <td>7106</td>\n",
       "      <td>7113</td>\n",
       "      <td>7118</td>\n",
       "      <td>7118</td>\n",
       "      <td>7126</td>\n",
       "      <td>7135</td>\n",
       "      <td>7141</td>\n",
       "    </tr>\n",
       "    <tr>\n",
       "      <th>1</th>\n",
       "      <td>Alabama</td>\n",
       "      <td>Baldwin</td>\n",
       "      <td>84001003</td>\n",
       "      <td>US</td>\n",
       "      <td>USA</td>\n",
       "      <td>840</td>\n",
       "      <td>1003.0</td>\n",
       "      <td>US</td>\n",
       "      <td>30.727750</td>\n",
       "      <td>-87.722071</td>\n",
       "      <td>...</td>\n",
       "      <td>21444</td>\n",
       "      <td>21467</td>\n",
       "      <td>21489</td>\n",
       "      <td>21511</td>\n",
       "      <td>21535</td>\n",
       "      <td>21546</td>\n",
       "      <td>21554</td>\n",
       "      <td>21578</td>\n",
       "      <td>21593</td>\n",
       "      <td>21606</td>\n",
       "    </tr>\n",
       "    <tr>\n",
       "      <th>2</th>\n",
       "      <td>Alabama</td>\n",
       "      <td>Barbour</td>\n",
       "      <td>84001005</td>\n",
       "      <td>US</td>\n",
       "      <td>USA</td>\n",
       "      <td>840</td>\n",
       "      <td>1005.0</td>\n",
       "      <td>US</td>\n",
       "      <td>31.868263</td>\n",
       "      <td>-85.387129</td>\n",
       "      <td>...</td>\n",
       "      <td>2322</td>\n",
       "      <td>2324</td>\n",
       "      <td>2326</td>\n",
       "      <td>2327</td>\n",
       "      <td>2328</td>\n",
       "      <td>2328</td>\n",
       "      <td>2328</td>\n",
       "      <td>2331</td>\n",
       "      <td>2331</td>\n",
       "      <td>2333</td>\n",
       "    </tr>\n",
       "    <tr>\n",
       "      <th>3</th>\n",
       "      <td>Alabama</td>\n",
       "      <td>Bibb</td>\n",
       "      <td>84001007</td>\n",
       "      <td>US</td>\n",
       "      <td>USA</td>\n",
       "      <td>840</td>\n",
       "      <td>1007.0</td>\n",
       "      <td>US</td>\n",
       "      <td>32.996421</td>\n",
       "      <td>-87.125115</td>\n",
       "      <td>...</td>\n",
       "      <td>2651</td>\n",
       "      <td>2652</td>\n",
       "      <td>2656</td>\n",
       "      <td>2657</td>\n",
       "      <td>2656</td>\n",
       "      <td>2658</td>\n",
       "      <td>2659</td>\n",
       "      <td>2660</td>\n",
       "      <td>2662</td>\n",
       "      <td>2666</td>\n",
       "    </tr>\n",
       "    <tr>\n",
       "      <th>4</th>\n",
       "      <td>Alabama</td>\n",
       "      <td>Blount</td>\n",
       "      <td>84001009</td>\n",
       "      <td>US</td>\n",
       "      <td>USA</td>\n",
       "      <td>840</td>\n",
       "      <td>1009.0</td>\n",
       "      <td>US</td>\n",
       "      <td>33.982109</td>\n",
       "      <td>-86.567906</td>\n",
       "      <td>...</td>\n",
       "      <td>6794</td>\n",
       "      <td>6808</td>\n",
       "      <td>6816</td>\n",
       "      <td>6826</td>\n",
       "      <td>6829</td>\n",
       "      <td>6832</td>\n",
       "      <td>6832</td>\n",
       "      <td>6847</td>\n",
       "      <td>6856</td>\n",
       "      <td>6862</td>\n",
       "    </tr>\n",
       "    <tr>\n",
       "      <th>5</th>\n",
       "      <td>Alabama</td>\n",
       "      <td>Bullock</td>\n",
       "      <td>84001011</td>\n",
       "      <td>US</td>\n",
       "      <td>USA</td>\n",
       "      <td>840</td>\n",
       "      <td>1011.0</td>\n",
       "      <td>US</td>\n",
       "      <td>32.100305</td>\n",
       "      <td>-85.712655</td>\n",
       "      <td>...</td>\n",
       "      <td>1233</td>\n",
       "      <td>1233</td>\n",
       "      <td>1233</td>\n",
       "      <td>1233</td>\n",
       "      <td>1233</td>\n",
       "      <td>1233</td>\n",
       "      <td>1233</td>\n",
       "      <td>1233</td>\n",
       "      <td>1233</td>\n",
       "      <td>1233</td>\n",
       "    </tr>\n",
       "    <tr>\n",
       "      <th>6</th>\n",
       "      <td>Alabama</td>\n",
       "      <td>Butler</td>\n",
       "      <td>84001013</td>\n",
       "      <td>US</td>\n",
       "      <td>USA</td>\n",
       "      <td>840</td>\n",
       "      <td>1013.0</td>\n",
       "      <td>US</td>\n",
       "      <td>31.753001</td>\n",
       "      <td>-86.680575</td>\n",
       "      <td>...</td>\n",
       "      <td>2190</td>\n",
       "      <td>2191</td>\n",
       "      <td>2195</td>\n",
       "      <td>2199</td>\n",
       "      <td>2201</td>\n",
       "      <td>2202</td>\n",
       "      <td>2202</td>\n",
       "      <td>2210</td>\n",
       "      <td>2216</td>\n",
       "      <td>2215</td>\n",
       "    </tr>\n",
       "    <tr>\n",
       "      <th>7</th>\n",
       "      <td>Alabama</td>\n",
       "      <td>Calhoun</td>\n",
       "      <td>84001015</td>\n",
       "      <td>US</td>\n",
       "      <td>USA</td>\n",
       "      <td>840</td>\n",
       "      <td>1015.0</td>\n",
       "      <td>US</td>\n",
       "      <td>33.774837</td>\n",
       "      <td>-85.826304</td>\n",
       "      <td>...</td>\n",
       "      <td>14580</td>\n",
       "      <td>14586</td>\n",
       "      <td>14590</td>\n",
       "      <td>14588</td>\n",
       "      <td>14595</td>\n",
       "      <td>14606</td>\n",
       "      <td>14608</td>\n",
       "      <td>14606</td>\n",
       "      <td>14614</td>\n",
       "      <td>14621</td>\n",
       "    </tr>\n",
       "    <tr>\n",
       "      <th>8</th>\n",
       "      <td>Alabama</td>\n",
       "      <td>Chambers</td>\n",
       "      <td>84001017</td>\n",
       "      <td>US</td>\n",
       "      <td>USA</td>\n",
       "      <td>840</td>\n",
       "      <td>1017.0</td>\n",
       "      <td>US</td>\n",
       "      <td>32.913601</td>\n",
       "      <td>-85.390727</td>\n",
       "      <td>...</td>\n",
       "      <td>3606</td>\n",
       "      <td>3616</td>\n",
       "      <td>3622</td>\n",
       "      <td>3634</td>\n",
       "      <td>3636</td>\n",
       "      <td>3640</td>\n",
       "      <td>3641</td>\n",
       "      <td>3653</td>\n",
       "      <td>3654</td>\n",
       "      <td>3662</td>\n",
       "    </tr>\n",
       "    <tr>\n",
       "      <th>9</th>\n",
       "      <td>Alabama</td>\n",
       "      <td>Cherokee</td>\n",
       "      <td>84001019</td>\n",
       "      <td>US</td>\n",
       "      <td>USA</td>\n",
       "      <td>840</td>\n",
       "      <td>1019.0</td>\n",
       "      <td>US</td>\n",
       "      <td>34.178060</td>\n",
       "      <td>-85.606390</td>\n",
       "      <td>...</td>\n",
       "      <td>1849</td>\n",
       "      <td>1850</td>\n",
       "      <td>1852</td>\n",
       "      <td>1852</td>\n",
       "      <td>1854</td>\n",
       "      <td>1858</td>\n",
       "      <td>1858</td>\n",
       "      <td>1859</td>\n",
       "      <td>1859</td>\n",
       "      <td>1861</td>\n",
       "    </tr>\n",
       "  </tbody>\n",
       "</table>\n",
       "<p>10 rows × 503 columns</p>\n",
       "</div>"
      ],
      "text/plain": [
       "  Province_State    Admin2       UID iso2 iso3  code3    FIPS Country_Region  \\\n",
       "0        Alabama   Autauga  84001001   US  USA    840  1001.0             US   \n",
       "1        Alabama   Baldwin  84001003   US  USA    840  1003.0             US   \n",
       "2        Alabama   Barbour  84001005   US  USA    840  1005.0             US   \n",
       "3        Alabama      Bibb  84001007   US  USA    840  1007.0             US   \n",
       "4        Alabama    Blount  84001009   US  USA    840  1009.0             US   \n",
       "5        Alabama   Bullock  84001011   US  USA    840  1011.0             US   \n",
       "6        Alabama    Butler  84001013   US  USA    840  1013.0             US   \n",
       "7        Alabama   Calhoun  84001015   US  USA    840  1015.0             US   \n",
       "8        Alabama  Chambers  84001017   US  USA    840  1017.0             US   \n",
       "9        Alabama  Cherokee  84001019   US  USA    840  1019.0             US   \n",
       "\n",
       "         Lat      Long_  ... 5/18/21  5/19/21  5/20/21  5/21/21  5/22/21  \\\n",
       "0  32.539527 -86.644082  ...    7015     7017     7049     7106     7113   \n",
       "1  30.727750 -87.722071  ...   21444    21467    21489    21511    21535   \n",
       "2  31.868263 -85.387129  ...    2322     2324     2326     2327     2328   \n",
       "3  32.996421 -87.125115  ...    2651     2652     2656     2657     2656   \n",
       "4  33.982109 -86.567906  ...    6794     6808     6816     6826     6829   \n",
       "5  32.100305 -85.712655  ...    1233     1233     1233     1233     1233   \n",
       "6  31.753001 -86.680575  ...    2190     2191     2195     2199     2201   \n",
       "7  33.774837 -85.826304  ...   14580    14586    14590    14588    14595   \n",
       "8  32.913601 -85.390727  ...    3606     3616     3622     3634     3636   \n",
       "9  34.178060 -85.606390  ...    1849     1850     1852     1852     1854   \n",
       "\n",
       "   5/23/21  5/24/21  5/25/21  5/26/21  5/27/21  \n",
       "0     7118     7118     7126     7135     7141  \n",
       "1    21546    21554    21578    21593    21606  \n",
       "2     2328     2328     2331     2331     2333  \n",
       "3     2658     2659     2660     2662     2666  \n",
       "4     6832     6832     6847     6856     6862  \n",
       "5     1233     1233     1233     1233     1233  \n",
       "6     2202     2202     2210     2216     2215  \n",
       "7    14606    14608    14606    14614    14621  \n",
       "8     3640     3641     3653     3654     3662  \n",
       "9     1858     1858     1859     1859     1861  \n",
       "\n",
       "[10 rows x 503 columns]"
      ]
     },
     "execution_count": 264,
     "metadata": {},
     "output_type": "execute_result"
    }
   ],
   "source": [
    "df.head(10)"
   ]
  },
  {
   "cell_type": "code",
   "execution_count": 265,
   "metadata": {},
   "outputs": [],
   "source": [
    "df.drop(['Admin2','code3'],axis=1,inplace=True)"
   ]
  },
  {
   "cell_type": "code",
   "execution_count": 266,
   "metadata": {},
   "outputs": [
    {
     "data": {
      "text/html": [
       "<div>\n",
       "<style scoped>\n",
       "    .dataframe tbody tr th:only-of-type {\n",
       "        vertical-align: middle;\n",
       "    }\n",
       "\n",
       "    .dataframe tbody tr th {\n",
       "        vertical-align: top;\n",
       "    }\n",
       "\n",
       "    .dataframe thead th {\n",
       "        text-align: right;\n",
       "    }\n",
       "</style>\n",
       "<table border=\"1\" class=\"dataframe\">\n",
       "  <thead>\n",
       "    <tr style=\"text-align: right;\">\n",
       "      <th></th>\n",
       "      <th>Province_State</th>\n",
       "      <th>UID</th>\n",
       "      <th>iso2</th>\n",
       "      <th>iso3</th>\n",
       "      <th>FIPS</th>\n",
       "      <th>Country_Region</th>\n",
       "      <th>Lat</th>\n",
       "      <th>Long_</th>\n",
       "      <th>Combined_Key</th>\n",
       "      <th>1/22/20</th>\n",
       "      <th>...</th>\n",
       "      <th>5/18/21</th>\n",
       "      <th>5/19/21</th>\n",
       "      <th>5/20/21</th>\n",
       "      <th>5/21/21</th>\n",
       "      <th>5/22/21</th>\n",
       "      <th>5/23/21</th>\n",
       "      <th>5/24/21</th>\n",
       "      <th>5/25/21</th>\n",
       "      <th>5/26/21</th>\n",
       "      <th>5/27/21</th>\n",
       "    </tr>\n",
       "  </thead>\n",
       "  <tbody>\n",
       "    <tr>\n",
       "      <th>0</th>\n",
       "      <td>Alabama</td>\n",
       "      <td>84001001</td>\n",
       "      <td>US</td>\n",
       "      <td>USA</td>\n",
       "      <td>1001.0</td>\n",
       "      <td>US</td>\n",
       "      <td>32.539527</td>\n",
       "      <td>-86.644082</td>\n",
       "      <td>Autauga, Alabama, US</td>\n",
       "      <td>0</td>\n",
       "      <td>...</td>\n",
       "      <td>7015</td>\n",
       "      <td>7017</td>\n",
       "      <td>7049</td>\n",
       "      <td>7106</td>\n",
       "      <td>7113</td>\n",
       "      <td>7118</td>\n",
       "      <td>7118</td>\n",
       "      <td>7126</td>\n",
       "      <td>7135</td>\n",
       "      <td>7141</td>\n",
       "    </tr>\n",
       "    <tr>\n",
       "      <th>1</th>\n",
       "      <td>Alabama</td>\n",
       "      <td>84001003</td>\n",
       "      <td>US</td>\n",
       "      <td>USA</td>\n",
       "      <td>1003.0</td>\n",
       "      <td>US</td>\n",
       "      <td>30.727750</td>\n",
       "      <td>-87.722071</td>\n",
       "      <td>Baldwin, Alabama, US</td>\n",
       "      <td>0</td>\n",
       "      <td>...</td>\n",
       "      <td>21444</td>\n",
       "      <td>21467</td>\n",
       "      <td>21489</td>\n",
       "      <td>21511</td>\n",
       "      <td>21535</td>\n",
       "      <td>21546</td>\n",
       "      <td>21554</td>\n",
       "      <td>21578</td>\n",
       "      <td>21593</td>\n",
       "      <td>21606</td>\n",
       "    </tr>\n",
       "    <tr>\n",
       "      <th>2</th>\n",
       "      <td>Alabama</td>\n",
       "      <td>84001005</td>\n",
       "      <td>US</td>\n",
       "      <td>USA</td>\n",
       "      <td>1005.0</td>\n",
       "      <td>US</td>\n",
       "      <td>31.868263</td>\n",
       "      <td>-85.387129</td>\n",
       "      <td>Barbour, Alabama, US</td>\n",
       "      <td>0</td>\n",
       "      <td>...</td>\n",
       "      <td>2322</td>\n",
       "      <td>2324</td>\n",
       "      <td>2326</td>\n",
       "      <td>2327</td>\n",
       "      <td>2328</td>\n",
       "      <td>2328</td>\n",
       "      <td>2328</td>\n",
       "      <td>2331</td>\n",
       "      <td>2331</td>\n",
       "      <td>2333</td>\n",
       "    </tr>\n",
       "    <tr>\n",
       "      <th>3</th>\n",
       "      <td>Alabama</td>\n",
       "      <td>84001007</td>\n",
       "      <td>US</td>\n",
       "      <td>USA</td>\n",
       "      <td>1007.0</td>\n",
       "      <td>US</td>\n",
       "      <td>32.996421</td>\n",
       "      <td>-87.125115</td>\n",
       "      <td>Bibb, Alabama, US</td>\n",
       "      <td>0</td>\n",
       "      <td>...</td>\n",
       "      <td>2651</td>\n",
       "      <td>2652</td>\n",
       "      <td>2656</td>\n",
       "      <td>2657</td>\n",
       "      <td>2656</td>\n",
       "      <td>2658</td>\n",
       "      <td>2659</td>\n",
       "      <td>2660</td>\n",
       "      <td>2662</td>\n",
       "      <td>2666</td>\n",
       "    </tr>\n",
       "    <tr>\n",
       "      <th>4</th>\n",
       "      <td>Alabama</td>\n",
       "      <td>84001009</td>\n",
       "      <td>US</td>\n",
       "      <td>USA</td>\n",
       "      <td>1009.0</td>\n",
       "      <td>US</td>\n",
       "      <td>33.982109</td>\n",
       "      <td>-86.567906</td>\n",
       "      <td>Blount, Alabama, US</td>\n",
       "      <td>0</td>\n",
       "      <td>...</td>\n",
       "      <td>6794</td>\n",
       "      <td>6808</td>\n",
       "      <td>6816</td>\n",
       "      <td>6826</td>\n",
       "      <td>6829</td>\n",
       "      <td>6832</td>\n",
       "      <td>6832</td>\n",
       "      <td>6847</td>\n",
       "      <td>6856</td>\n",
       "      <td>6862</td>\n",
       "    </tr>\n",
       "  </tbody>\n",
       "</table>\n",
       "<p>5 rows × 501 columns</p>\n",
       "</div>"
      ],
      "text/plain": [
       "  Province_State       UID iso2 iso3    FIPS Country_Region        Lat  \\\n",
       "0        Alabama  84001001   US  USA  1001.0             US  32.539527   \n",
       "1        Alabama  84001003   US  USA  1003.0             US  30.727750   \n",
       "2        Alabama  84001005   US  USA  1005.0             US  31.868263   \n",
       "3        Alabama  84001007   US  USA  1007.0             US  32.996421   \n",
       "4        Alabama  84001009   US  USA  1009.0             US  33.982109   \n",
       "\n",
       "       Long_          Combined_Key  1/22/20  ...  5/18/21  5/19/21  5/20/21  \\\n",
       "0 -86.644082  Autauga, Alabama, US        0  ...     7015     7017     7049   \n",
       "1 -87.722071  Baldwin, Alabama, US        0  ...    21444    21467    21489   \n",
       "2 -85.387129  Barbour, Alabama, US        0  ...     2322     2324     2326   \n",
       "3 -87.125115     Bibb, Alabama, US        0  ...     2651     2652     2656   \n",
       "4 -86.567906   Blount, Alabama, US        0  ...     6794     6808     6816   \n",
       "\n",
       "   5/21/21  5/22/21  5/23/21  5/24/21  5/25/21  5/26/21  5/27/21  \n",
       "0     7106     7113     7118     7118     7126     7135     7141  \n",
       "1    21511    21535    21546    21554    21578    21593    21606  \n",
       "2     2327     2328     2328     2328     2331     2331     2333  \n",
       "3     2657     2656     2658     2659     2660     2662     2666  \n",
       "4     6826     6829     6832     6832     6847     6856     6862  \n",
       "\n",
       "[5 rows x 501 columns]"
      ]
     },
     "execution_count": 266,
     "metadata": {},
     "output_type": "execute_result"
    }
   ],
   "source": [
    "df.head()"
   ]
  },
  {
   "cell_type": "code",
   "execution_count": 267,
   "metadata": {},
   "outputs": [],
   "source": [
    "df.rename(columns={\"Province_State\":\"State\",\"UID\":\"uni_ID\",\"Country_Region\":'Country'},inplace=True)"
   ]
  },
  {
   "cell_type": "code",
   "execution_count": 268,
   "metadata": {},
   "outputs": [
    {
     "data": {
      "text/html": [
       "<div>\n",
       "<style scoped>\n",
       "    .dataframe tbody tr th:only-of-type {\n",
       "        vertical-align: middle;\n",
       "    }\n",
       "\n",
       "    .dataframe tbody tr th {\n",
       "        vertical-align: top;\n",
       "    }\n",
       "\n",
       "    .dataframe thead th {\n",
       "        text-align: right;\n",
       "    }\n",
       "</style>\n",
       "<table border=\"1\" class=\"dataframe\">\n",
       "  <thead>\n",
       "    <tr style=\"text-align: right;\">\n",
       "      <th></th>\n",
       "      <th>State</th>\n",
       "      <th>uni_ID</th>\n",
       "      <th>iso2</th>\n",
       "      <th>iso3</th>\n",
       "      <th>FIPS</th>\n",
       "      <th>Country</th>\n",
       "      <th>Lat</th>\n",
       "      <th>Long_</th>\n",
       "      <th>Combined_Key</th>\n",
       "      <th>1/22/20</th>\n",
       "      <th>...</th>\n",
       "      <th>5/18/21</th>\n",
       "      <th>5/19/21</th>\n",
       "      <th>5/20/21</th>\n",
       "      <th>5/21/21</th>\n",
       "      <th>5/22/21</th>\n",
       "      <th>5/23/21</th>\n",
       "      <th>5/24/21</th>\n",
       "      <th>5/25/21</th>\n",
       "      <th>5/26/21</th>\n",
       "      <th>5/27/21</th>\n",
       "    </tr>\n",
       "  </thead>\n",
       "  <tbody>\n",
       "    <tr>\n",
       "      <th>0</th>\n",
       "      <td>Alabama</td>\n",
       "      <td>84001001</td>\n",
       "      <td>US</td>\n",
       "      <td>USA</td>\n",
       "      <td>1001.0</td>\n",
       "      <td>US</td>\n",
       "      <td>32.539527</td>\n",
       "      <td>-86.644082</td>\n",
       "      <td>Autauga, Alabama, US</td>\n",
       "      <td>0</td>\n",
       "      <td>...</td>\n",
       "      <td>7015</td>\n",
       "      <td>7017</td>\n",
       "      <td>7049</td>\n",
       "      <td>7106</td>\n",
       "      <td>7113</td>\n",
       "      <td>7118</td>\n",
       "      <td>7118</td>\n",
       "      <td>7126</td>\n",
       "      <td>7135</td>\n",
       "      <td>7141</td>\n",
       "    </tr>\n",
       "    <tr>\n",
       "      <th>1</th>\n",
       "      <td>Alabama</td>\n",
       "      <td>84001003</td>\n",
       "      <td>US</td>\n",
       "      <td>USA</td>\n",
       "      <td>1003.0</td>\n",
       "      <td>US</td>\n",
       "      <td>30.727750</td>\n",
       "      <td>-87.722071</td>\n",
       "      <td>Baldwin, Alabama, US</td>\n",
       "      <td>0</td>\n",
       "      <td>...</td>\n",
       "      <td>21444</td>\n",
       "      <td>21467</td>\n",
       "      <td>21489</td>\n",
       "      <td>21511</td>\n",
       "      <td>21535</td>\n",
       "      <td>21546</td>\n",
       "      <td>21554</td>\n",
       "      <td>21578</td>\n",
       "      <td>21593</td>\n",
       "      <td>21606</td>\n",
       "    </tr>\n",
       "    <tr>\n",
       "      <th>2</th>\n",
       "      <td>Alabama</td>\n",
       "      <td>84001005</td>\n",
       "      <td>US</td>\n",
       "      <td>USA</td>\n",
       "      <td>1005.0</td>\n",
       "      <td>US</td>\n",
       "      <td>31.868263</td>\n",
       "      <td>-85.387129</td>\n",
       "      <td>Barbour, Alabama, US</td>\n",
       "      <td>0</td>\n",
       "      <td>...</td>\n",
       "      <td>2322</td>\n",
       "      <td>2324</td>\n",
       "      <td>2326</td>\n",
       "      <td>2327</td>\n",
       "      <td>2328</td>\n",
       "      <td>2328</td>\n",
       "      <td>2328</td>\n",
       "      <td>2331</td>\n",
       "      <td>2331</td>\n",
       "      <td>2333</td>\n",
       "    </tr>\n",
       "    <tr>\n",
       "      <th>3</th>\n",
       "      <td>Alabama</td>\n",
       "      <td>84001007</td>\n",
       "      <td>US</td>\n",
       "      <td>USA</td>\n",
       "      <td>1007.0</td>\n",
       "      <td>US</td>\n",
       "      <td>32.996421</td>\n",
       "      <td>-87.125115</td>\n",
       "      <td>Bibb, Alabama, US</td>\n",
       "      <td>0</td>\n",
       "      <td>...</td>\n",
       "      <td>2651</td>\n",
       "      <td>2652</td>\n",
       "      <td>2656</td>\n",
       "      <td>2657</td>\n",
       "      <td>2656</td>\n",
       "      <td>2658</td>\n",
       "      <td>2659</td>\n",
       "      <td>2660</td>\n",
       "      <td>2662</td>\n",
       "      <td>2666</td>\n",
       "    </tr>\n",
       "    <tr>\n",
       "      <th>4</th>\n",
       "      <td>Alabama</td>\n",
       "      <td>84001009</td>\n",
       "      <td>US</td>\n",
       "      <td>USA</td>\n",
       "      <td>1009.0</td>\n",
       "      <td>US</td>\n",
       "      <td>33.982109</td>\n",
       "      <td>-86.567906</td>\n",
       "      <td>Blount, Alabama, US</td>\n",
       "      <td>0</td>\n",
       "      <td>...</td>\n",
       "      <td>6794</td>\n",
       "      <td>6808</td>\n",
       "      <td>6816</td>\n",
       "      <td>6826</td>\n",
       "      <td>6829</td>\n",
       "      <td>6832</td>\n",
       "      <td>6832</td>\n",
       "      <td>6847</td>\n",
       "      <td>6856</td>\n",
       "      <td>6862</td>\n",
       "    </tr>\n",
       "    <tr>\n",
       "      <th>...</th>\n",
       "      <td>...</td>\n",
       "      <td>...</td>\n",
       "      <td>...</td>\n",
       "      <td>...</td>\n",
       "      <td>...</td>\n",
       "      <td>...</td>\n",
       "      <td>...</td>\n",
       "      <td>...</td>\n",
       "      <td>...</td>\n",
       "      <td>...</td>\n",
       "      <td>...</td>\n",
       "      <td>...</td>\n",
       "      <td>...</td>\n",
       "      <td>...</td>\n",
       "      <td>...</td>\n",
       "      <td>...</td>\n",
       "      <td>...</td>\n",
       "      <td>...</td>\n",
       "      <td>...</td>\n",
       "      <td>...</td>\n",
       "      <td>...</td>\n",
       "    </tr>\n",
       "    <tr>\n",
       "      <th>3337</th>\n",
       "      <td>Wyoming</td>\n",
       "      <td>84056039</td>\n",
       "      <td>US</td>\n",
       "      <td>USA</td>\n",
       "      <td>56039.0</td>\n",
       "      <td>US</td>\n",
       "      <td>43.935225</td>\n",
       "      <td>-110.589080</td>\n",
       "      <td>Teton, Wyoming, US</td>\n",
       "      <td>0</td>\n",
       "      <td>...</td>\n",
       "      <td>3772</td>\n",
       "      <td>3770</td>\n",
       "      <td>3775</td>\n",
       "      <td>3776</td>\n",
       "      <td>3776</td>\n",
       "      <td>3776</td>\n",
       "      <td>3780</td>\n",
       "      <td>3780</td>\n",
       "      <td>3781</td>\n",
       "      <td>3781</td>\n",
       "    </tr>\n",
       "    <tr>\n",
       "      <th>3338</th>\n",
       "      <td>Wyoming</td>\n",
       "      <td>84056041</td>\n",
       "      <td>US</td>\n",
       "      <td>USA</td>\n",
       "      <td>56041.0</td>\n",
       "      <td>US</td>\n",
       "      <td>41.287818</td>\n",
       "      <td>-110.547578</td>\n",
       "      <td>Uinta, Wyoming, US</td>\n",
       "      <td>0</td>\n",
       "      <td>...</td>\n",
       "      <td>2249</td>\n",
       "      <td>2250</td>\n",
       "      <td>2251</td>\n",
       "      <td>2246</td>\n",
       "      <td>2246</td>\n",
       "      <td>2246</td>\n",
       "      <td>2252</td>\n",
       "      <td>2261</td>\n",
       "      <td>2263</td>\n",
       "      <td>2264</td>\n",
       "    </tr>\n",
       "    <tr>\n",
       "      <th>3339</th>\n",
       "      <td>Wyoming</td>\n",
       "      <td>84090056</td>\n",
       "      <td>US</td>\n",
       "      <td>USA</td>\n",
       "      <td>90056.0</td>\n",
       "      <td>US</td>\n",
       "      <td>0.000000</td>\n",
       "      <td>0.000000</td>\n",
       "      <td>Unassigned, Wyoming, US</td>\n",
       "      <td>0</td>\n",
       "      <td>...</td>\n",
       "      <td>0</td>\n",
       "      <td>0</td>\n",
       "      <td>0</td>\n",
       "      <td>0</td>\n",
       "      <td>0</td>\n",
       "      <td>0</td>\n",
       "      <td>0</td>\n",
       "      <td>0</td>\n",
       "      <td>0</td>\n",
       "      <td>0</td>\n",
       "    </tr>\n",
       "    <tr>\n",
       "      <th>3340</th>\n",
       "      <td>Wyoming</td>\n",
       "      <td>84056043</td>\n",
       "      <td>US</td>\n",
       "      <td>USA</td>\n",
       "      <td>56043.0</td>\n",
       "      <td>US</td>\n",
       "      <td>43.904516</td>\n",
       "      <td>-107.680187</td>\n",
       "      <td>Washakie, Wyoming, US</td>\n",
       "      <td>0</td>\n",
       "      <td>...</td>\n",
       "      <td>917</td>\n",
       "      <td>920</td>\n",
       "      <td>921</td>\n",
       "      <td>921</td>\n",
       "      <td>921</td>\n",
       "      <td>921</td>\n",
       "      <td>921</td>\n",
       "      <td>921</td>\n",
       "      <td>922</td>\n",
       "      <td>922</td>\n",
       "    </tr>\n",
       "    <tr>\n",
       "      <th>3341</th>\n",
       "      <td>Wyoming</td>\n",
       "      <td>84056045</td>\n",
       "      <td>US</td>\n",
       "      <td>USA</td>\n",
       "      <td>56045.0</td>\n",
       "      <td>US</td>\n",
       "      <td>43.839612</td>\n",
       "      <td>-104.567488</td>\n",
       "      <td>Weston, Wyoming, US</td>\n",
       "      <td>0</td>\n",
       "      <td>...</td>\n",
       "      <td>651</td>\n",
       "      <td>651</td>\n",
       "      <td>651</td>\n",
       "      <td>652</td>\n",
       "      <td>652</td>\n",
       "      <td>652</td>\n",
       "      <td>652</td>\n",
       "      <td>652</td>\n",
       "      <td>653</td>\n",
       "      <td>653</td>\n",
       "    </tr>\n",
       "  </tbody>\n",
       "</table>\n",
       "<p>3342 rows × 501 columns</p>\n",
       "</div>"
      ],
      "text/plain": [
       "        State    uni_ID iso2 iso3     FIPS Country        Lat       Long_  \\\n",
       "0     Alabama  84001001   US  USA   1001.0      US  32.539527  -86.644082   \n",
       "1     Alabama  84001003   US  USA   1003.0      US  30.727750  -87.722071   \n",
       "2     Alabama  84001005   US  USA   1005.0      US  31.868263  -85.387129   \n",
       "3     Alabama  84001007   US  USA   1007.0      US  32.996421  -87.125115   \n",
       "4     Alabama  84001009   US  USA   1009.0      US  33.982109  -86.567906   \n",
       "...       ...       ...  ...  ...      ...     ...        ...         ...   \n",
       "3337  Wyoming  84056039   US  USA  56039.0      US  43.935225 -110.589080   \n",
       "3338  Wyoming  84056041   US  USA  56041.0      US  41.287818 -110.547578   \n",
       "3339  Wyoming  84090056   US  USA  90056.0      US   0.000000    0.000000   \n",
       "3340  Wyoming  84056043   US  USA  56043.0      US  43.904516 -107.680187   \n",
       "3341  Wyoming  84056045   US  USA  56045.0      US  43.839612 -104.567488   \n",
       "\n",
       "                 Combined_Key  1/22/20  ...  5/18/21  5/19/21  5/20/21  \\\n",
       "0        Autauga, Alabama, US        0  ...     7015     7017     7049   \n",
       "1        Baldwin, Alabama, US        0  ...    21444    21467    21489   \n",
       "2        Barbour, Alabama, US        0  ...     2322     2324     2326   \n",
       "3           Bibb, Alabama, US        0  ...     2651     2652     2656   \n",
       "4         Blount, Alabama, US        0  ...     6794     6808     6816   \n",
       "...                       ...      ...  ...      ...      ...      ...   \n",
       "3337       Teton, Wyoming, US        0  ...     3772     3770     3775   \n",
       "3338       Uinta, Wyoming, US        0  ...     2249     2250     2251   \n",
       "3339  Unassigned, Wyoming, US        0  ...        0        0        0   \n",
       "3340    Washakie, Wyoming, US        0  ...      917      920      921   \n",
       "3341      Weston, Wyoming, US        0  ...      651      651      651   \n",
       "\n",
       "      5/21/21  5/22/21  5/23/21  5/24/21  5/25/21  5/26/21  5/27/21  \n",
       "0        7106     7113     7118     7118     7126     7135     7141  \n",
       "1       21511    21535    21546    21554    21578    21593    21606  \n",
       "2        2327     2328     2328     2328     2331     2331     2333  \n",
       "3        2657     2656     2658     2659     2660     2662     2666  \n",
       "4        6826     6829     6832     6832     6847     6856     6862  \n",
       "...       ...      ...      ...      ...      ...      ...      ...  \n",
       "3337     3776     3776     3776     3780     3780     3781     3781  \n",
       "3338     2246     2246     2246     2252     2261     2263     2264  \n",
       "3339        0        0        0        0        0        0        0  \n",
       "3340      921      921      921      921      921      922      922  \n",
       "3341      652      652      652      652      652      653      653  \n",
       "\n",
       "[3342 rows x 501 columns]"
      ]
     },
     "execution_count": 268,
     "metadata": {},
     "output_type": "execute_result"
    }
   ],
   "source": [
    "df"
   ]
  },
  {
   "cell_type": "code",
   "execution_count": null,
   "metadata": {},
   "outputs": [],
   "source": [
    "df[\"date\"]=pd.to_datetime(df['date']) #To internal pandas date format"
   ]
  },
  {
   "cell_type": "code",
   "execution_count": 270,
   "metadata": {},
   "outputs": [
    {
     "data": {
      "text/html": [
       "<div>\n",
       "<style scoped>\n",
       "    .dataframe tbody tr th:only-of-type {\n",
       "        vertical-align: middle;\n",
       "    }\n",
       "\n",
       "    .dataframe tbody tr th {\n",
       "        vertical-align: top;\n",
       "    }\n",
       "\n",
       "    .dataframe thead th {\n",
       "        text-align: right;\n",
       "    }\n",
       "</style>\n",
       "<table border=\"1\" class=\"dataframe\">\n",
       "  <thead>\n",
       "    <tr style=\"text-align: right;\">\n",
       "      <th></th>\n",
       "      <th>uni_ID</th>\n",
       "      <th>FIPS</th>\n",
       "      <th>Lat</th>\n",
       "      <th>Long_</th>\n",
       "      <th>1/22/20</th>\n",
       "      <th>1/23/20</th>\n",
       "      <th>1/24/20</th>\n",
       "      <th>1/25/20</th>\n",
       "      <th>1/26/20</th>\n",
       "      <th>1/27/20</th>\n",
       "      <th>...</th>\n",
       "      <th>5/18/21</th>\n",
       "      <th>5/19/21</th>\n",
       "      <th>5/20/21</th>\n",
       "      <th>5/21/21</th>\n",
       "      <th>5/22/21</th>\n",
       "      <th>5/23/21</th>\n",
       "      <th>5/24/21</th>\n",
       "      <th>5/25/21</th>\n",
       "      <th>5/26/21</th>\n",
       "      <th>5/27/21</th>\n",
       "    </tr>\n",
       "  </thead>\n",
       "  <tbody>\n",
       "    <tr>\n",
       "      <th>count</th>\n",
       "      <td>3.342000e+03</td>\n",
       "      <td>3332.000000</td>\n",
       "      <td>3342.000000</td>\n",
       "      <td>3342.000000</td>\n",
       "      <td>3342.000000</td>\n",
       "      <td>3342.000000</td>\n",
       "      <td>3342.000000</td>\n",
       "      <td>3342.000000</td>\n",
       "      <td>3342.000000</td>\n",
       "      <td>3342.000000</td>\n",
       "      <td>...</td>\n",
       "      <td>3.342000e+03</td>\n",
       "      <td>3.342000e+03</td>\n",
       "      <td>3.342000e+03</td>\n",
       "      <td>3.342000e+03</td>\n",
       "      <td>3.342000e+03</td>\n",
       "      <td>3.342000e+03</td>\n",
       "      <td>3.342000e+03</td>\n",
       "      <td>3.342000e+03</td>\n",
       "      <td>3.342000e+03</td>\n",
       "      <td>3.342000e+03</td>\n",
       "    </tr>\n",
       "    <tr>\n",
       "      <th>mean</th>\n",
       "      <td>8.342992e+07</td>\n",
       "      <td>33043.078932</td>\n",
       "      <td>36.721617</td>\n",
       "      <td>-88.642045</td>\n",
       "      <td>0.000299</td>\n",
       "      <td>0.000299</td>\n",
       "      <td>0.000598</td>\n",
       "      <td>0.000598</td>\n",
       "      <td>0.001496</td>\n",
       "      <td>0.001496</td>\n",
       "      <td>...</td>\n",
       "      <td>9.873528e+03</td>\n",
       "      <td>9.882293e+03</td>\n",
       "      <td>9.891312e+03</td>\n",
       "      <td>9.899792e+03</td>\n",
       "      <td>9.905710e+03</td>\n",
       "      <td>9.909556e+03</td>\n",
       "      <td>9.917314e+03</td>\n",
       "      <td>9.924123e+03</td>\n",
       "      <td>9.931320e+03</td>\n",
       "      <td>9.939473e+03</td>\n",
       "    </tr>\n",
       "    <tr>\n",
       "      <th>std</th>\n",
       "      <td>4.314076e+06</td>\n",
       "      <td>18648.808931</td>\n",
       "      <td>9.079322</td>\n",
       "      <td>21.776287</td>\n",
       "      <td>0.017298</td>\n",
       "      <td>0.017298</td>\n",
       "      <td>0.024459</td>\n",
       "      <td>0.024459</td>\n",
       "      <td>0.038656</td>\n",
       "      <td>0.038656</td>\n",
       "      <td>...</td>\n",
       "      <td>3.586405e+04</td>\n",
       "      <td>3.588468e+04</td>\n",
       "      <td>3.590595e+04</td>\n",
       "      <td>3.592462e+04</td>\n",
       "      <td>3.594255e+04</td>\n",
       "      <td>3.595534e+04</td>\n",
       "      <td>3.597429e+04</td>\n",
       "      <td>3.599013e+04</td>\n",
       "      <td>3.600718e+04</td>\n",
       "      <td>3.606396e+04</td>\n",
       "    </tr>\n",
       "    <tr>\n",
       "      <th>min</th>\n",
       "      <td>1.600000e+01</td>\n",
       "      <td>60.000000</td>\n",
       "      <td>-14.271000</td>\n",
       "      <td>-174.159600</td>\n",
       "      <td>0.000000</td>\n",
       "      <td>0.000000</td>\n",
       "      <td>0.000000</td>\n",
       "      <td>0.000000</td>\n",
       "      <td>0.000000</td>\n",
       "      <td>0.000000</td>\n",
       "      <td>...</td>\n",
       "      <td>0.000000e+00</td>\n",
       "      <td>0.000000e+00</td>\n",
       "      <td>0.000000e+00</td>\n",
       "      <td>0.000000e+00</td>\n",
       "      <td>0.000000e+00</td>\n",
       "      <td>0.000000e+00</td>\n",
       "      <td>0.000000e+00</td>\n",
       "      <td>0.000000e+00</td>\n",
       "      <td>0.000000e+00</td>\n",
       "      <td>0.000000e+00</td>\n",
       "    </tr>\n",
       "    <tr>\n",
       "      <th>25%</th>\n",
       "      <td>8.401811e+07</td>\n",
       "      <td>19076.500000</td>\n",
       "      <td>33.896803</td>\n",
       "      <td>-97.803595</td>\n",
       "      <td>0.000000</td>\n",
       "      <td>0.000000</td>\n",
       "      <td>0.000000</td>\n",
       "      <td>0.000000</td>\n",
       "      <td>0.000000</td>\n",
       "      <td>0.000000</td>\n",
       "      <td>...</td>\n",
       "      <td>9.260000e+02</td>\n",
       "      <td>9.245000e+02</td>\n",
       "      <td>9.262500e+02</td>\n",
       "      <td>9.280000e+02</td>\n",
       "      <td>9.280000e+02</td>\n",
       "      <td>9.280000e+02</td>\n",
       "      <td>9.290000e+02</td>\n",
       "      <td>9.290000e+02</td>\n",
       "      <td>9.292500e+02</td>\n",
       "      <td>9.302500e+02</td>\n",
       "    </tr>\n",
       "    <tr>\n",
       "      <th>50%</th>\n",
       "      <td>8.402921e+07</td>\n",
       "      <td>31012.000000</td>\n",
       "      <td>38.005610</td>\n",
       "      <td>-89.488865</td>\n",
       "      <td>0.000000</td>\n",
       "      <td>0.000000</td>\n",
       "      <td>0.000000</td>\n",
       "      <td>0.000000</td>\n",
       "      <td>0.000000</td>\n",
       "      <td>0.000000</td>\n",
       "      <td>...</td>\n",
       "      <td>2.347500e+03</td>\n",
       "      <td>2.350500e+03</td>\n",
       "      <td>2.352500e+03</td>\n",
       "      <td>2.352000e+03</td>\n",
       "      <td>2.352000e+03</td>\n",
       "      <td>2.353000e+03</td>\n",
       "      <td>2.354000e+03</td>\n",
       "      <td>2.353000e+03</td>\n",
       "      <td>2.353500e+03</td>\n",
       "      <td>2.356500e+03</td>\n",
       "    </tr>\n",
       "    <tr>\n",
       "      <th>75%</th>\n",
       "      <td>8.404612e+07</td>\n",
       "      <td>47129.500000</td>\n",
       "      <td>41.579255</td>\n",
       "      <td>-82.313398</td>\n",
       "      <td>0.000000</td>\n",
       "      <td>0.000000</td>\n",
       "      <td>0.000000</td>\n",
       "      <td>0.000000</td>\n",
       "      <td>0.000000</td>\n",
       "      <td>0.000000</td>\n",
       "      <td>...</td>\n",
       "      <td>6.207250e+03</td>\n",
       "      <td>6.213750e+03</td>\n",
       "      <td>6.226750e+03</td>\n",
       "      <td>6.229500e+03</td>\n",
       "      <td>6.229500e+03</td>\n",
       "      <td>6.229500e+03</td>\n",
       "      <td>6.241750e+03</td>\n",
       "      <td>6.249000e+03</td>\n",
       "      <td>6.261750e+03</td>\n",
       "      <td>6.268750e+03</td>\n",
       "    </tr>\n",
       "    <tr>\n",
       "      <th>max</th>\n",
       "      <td>8.410000e+07</td>\n",
       "      <td>99999.000000</td>\n",
       "      <td>69.314792</td>\n",
       "      <td>145.673900</td>\n",
       "      <td>1.000000</td>\n",
       "      <td>1.000000</td>\n",
       "      <td>1.000000</td>\n",
       "      <td>1.000000</td>\n",
       "      <td>1.000000</td>\n",
       "      <td>1.000000</td>\n",
       "      <td>...</td>\n",
       "      <td>1.237700e+06</td>\n",
       "      <td>1.237910e+06</td>\n",
       "      <td>1.238147e+06</td>\n",
       "      <td>1.238382e+06</td>\n",
       "      <td>1.238607e+06</td>\n",
       "      <td>1.238781e+06</td>\n",
       "      <td>1.238932e+06</td>\n",
       "      <td>1.239127e+06</td>\n",
       "      <td>1.239306e+06</td>\n",
       "      <td>1.243319e+06</td>\n",
       "    </tr>\n",
       "  </tbody>\n",
       "</table>\n",
       "<p>8 rows × 496 columns</p>\n",
       "</div>"
      ],
      "text/plain": [
       "             uni_ID          FIPS          Lat        Long_      1/22/20  \\\n",
       "count  3.342000e+03   3332.000000  3342.000000  3342.000000  3342.000000   \n",
       "mean   8.342992e+07  33043.078932    36.721617   -88.642045     0.000299   \n",
       "std    4.314076e+06  18648.808931     9.079322    21.776287     0.017298   \n",
       "min    1.600000e+01     60.000000   -14.271000  -174.159600     0.000000   \n",
       "25%    8.401811e+07  19076.500000    33.896803   -97.803595     0.000000   \n",
       "50%    8.402921e+07  31012.000000    38.005610   -89.488865     0.000000   \n",
       "75%    8.404612e+07  47129.500000    41.579255   -82.313398     0.000000   \n",
       "max    8.410000e+07  99999.000000    69.314792   145.673900     1.000000   \n",
       "\n",
       "           1/23/20      1/24/20      1/25/20      1/26/20      1/27/20  ...  \\\n",
       "count  3342.000000  3342.000000  3342.000000  3342.000000  3342.000000  ...   \n",
       "mean      0.000299     0.000598     0.000598     0.001496     0.001496  ...   \n",
       "std       0.017298     0.024459     0.024459     0.038656     0.038656  ...   \n",
       "min       0.000000     0.000000     0.000000     0.000000     0.000000  ...   \n",
       "25%       0.000000     0.000000     0.000000     0.000000     0.000000  ...   \n",
       "50%       0.000000     0.000000     0.000000     0.000000     0.000000  ...   \n",
       "75%       0.000000     0.000000     0.000000     0.000000     0.000000  ...   \n",
       "max       1.000000     1.000000     1.000000     1.000000     1.000000  ...   \n",
       "\n",
       "            5/18/21       5/19/21       5/20/21       5/21/21       5/22/21  \\\n",
       "count  3.342000e+03  3.342000e+03  3.342000e+03  3.342000e+03  3.342000e+03   \n",
       "mean   9.873528e+03  9.882293e+03  9.891312e+03  9.899792e+03  9.905710e+03   \n",
       "std    3.586405e+04  3.588468e+04  3.590595e+04  3.592462e+04  3.594255e+04   \n",
       "min    0.000000e+00  0.000000e+00  0.000000e+00  0.000000e+00  0.000000e+00   \n",
       "25%    9.260000e+02  9.245000e+02  9.262500e+02  9.280000e+02  9.280000e+02   \n",
       "50%    2.347500e+03  2.350500e+03  2.352500e+03  2.352000e+03  2.352000e+03   \n",
       "75%    6.207250e+03  6.213750e+03  6.226750e+03  6.229500e+03  6.229500e+03   \n",
       "max    1.237700e+06  1.237910e+06  1.238147e+06  1.238382e+06  1.238607e+06   \n",
       "\n",
       "            5/23/21       5/24/21       5/25/21       5/26/21       5/27/21  \n",
       "count  3.342000e+03  3.342000e+03  3.342000e+03  3.342000e+03  3.342000e+03  \n",
       "mean   9.909556e+03  9.917314e+03  9.924123e+03  9.931320e+03  9.939473e+03  \n",
       "std    3.595534e+04  3.597429e+04  3.599013e+04  3.600718e+04  3.606396e+04  \n",
       "min    0.000000e+00  0.000000e+00  0.000000e+00  0.000000e+00  0.000000e+00  \n",
       "25%    9.280000e+02  9.290000e+02  9.290000e+02  9.292500e+02  9.302500e+02  \n",
       "50%    2.353000e+03  2.354000e+03  2.353000e+03  2.353500e+03  2.356500e+03  \n",
       "75%    6.229500e+03  6.241750e+03  6.249000e+03  6.261750e+03  6.268750e+03  \n",
       "max    1.238781e+06  1.238932e+06  1.239127e+06  1.239306e+06  1.243319e+06  \n",
       "\n",
       "[8 rows x 496 columns]"
      ]
     },
     "execution_count": 270,
     "metadata": {},
     "output_type": "execute_result"
    }
   ],
   "source": [
    "df.describe()"
   ]
  },
  {
   "cell_type": "code",
   "execution_count": 271,
   "metadata": {},
   "outputs": [
    {
     "name": "stdout",
     "output_type": "stream",
     "text": [
      "<class 'pandas.core.frame.DataFrame'>\n",
      "RangeIndex: 3342 entries, 0 to 3341\n",
      "Columns: 501 entries, State to 5/27/21\n",
      "dtypes: float64(3), int64(493), object(5)\n",
      "memory usage: 12.8+ MB\n"
     ]
    }
   ],
   "source": [
    "df.info() "
   ]
  },
  {
   "cell_type": "code",
   "execution_count": 277,
   "metadata": {},
   "outputs": [],
   "source": [
    "df=df.fillna('NA')"
   ]
  },
  {
   "cell_type": "code",
   "execution_count": 278,
   "metadata": {},
   "outputs": [
    {
     "name": "stdout",
     "output_type": "stream",
     "text": [
      "<class 'pandas.core.frame.DataFrame'>\n",
      "RangeIndex: 3342 entries, 0 to 3341\n",
      "Columns: 501 entries, State to 5/27/21\n",
      "dtypes: float64(2), int64(493), object(6)\n",
      "memory usage: 12.8+ MB\n"
     ]
    }
   ],
   "source": [
    "df.info()"
   ]
  },
  {
   "cell_type": "code",
   "execution_count": 279,
   "metadata": {},
   "outputs": [
    {
     "data": {
      "text/html": [
       "<div>\n",
       "<style scoped>\n",
       "    .dataframe tbody tr th:only-of-type {\n",
       "        vertical-align: middle;\n",
       "    }\n",
       "\n",
       "    .dataframe tbody tr th {\n",
       "        vertical-align: top;\n",
       "    }\n",
       "\n",
       "    .dataframe thead th {\n",
       "        text-align: right;\n",
       "    }\n",
       "</style>\n",
       "<table border=\"1\" class=\"dataframe\">\n",
       "  <thead>\n",
       "    <tr style=\"text-align: right;\">\n",
       "      <th></th>\n",
       "      <th>State</th>\n",
       "      <th>uni_ID</th>\n",
       "      <th>iso2</th>\n",
       "      <th>iso3</th>\n",
       "      <th>FIPS</th>\n",
       "      <th>Country</th>\n",
       "      <th>Lat</th>\n",
       "      <th>Long_</th>\n",
       "      <th>Combined_Key</th>\n",
       "      <th>1/22/20</th>\n",
       "      <th>...</th>\n",
       "      <th>5/18/21</th>\n",
       "      <th>5/19/21</th>\n",
       "      <th>5/20/21</th>\n",
       "      <th>5/21/21</th>\n",
       "      <th>5/22/21</th>\n",
       "      <th>5/23/21</th>\n",
       "      <th>5/24/21</th>\n",
       "      <th>5/25/21</th>\n",
       "      <th>5/26/21</th>\n",
       "      <th>5/27/21</th>\n",
       "    </tr>\n",
       "  </thead>\n",
       "  <tbody>\n",
       "    <tr>\n",
       "      <th>0</th>\n",
       "      <td>Alabama</td>\n",
       "      <td>84001001</td>\n",
       "      <td>US</td>\n",
       "      <td>USA</td>\n",
       "      <td>1001</td>\n",
       "      <td>US</td>\n",
       "      <td>32.539527</td>\n",
       "      <td>-86.644082</td>\n",
       "      <td>Autauga, Alabama, US</td>\n",
       "      <td>0</td>\n",
       "      <td>...</td>\n",
       "      <td>7015</td>\n",
       "      <td>7017</td>\n",
       "      <td>7049</td>\n",
       "      <td>7106</td>\n",
       "      <td>7113</td>\n",
       "      <td>7118</td>\n",
       "      <td>7118</td>\n",
       "      <td>7126</td>\n",
       "      <td>7135</td>\n",
       "      <td>7141</td>\n",
       "    </tr>\n",
       "    <tr>\n",
       "      <th>1</th>\n",
       "      <td>Alabama</td>\n",
       "      <td>84001003</td>\n",
       "      <td>US</td>\n",
       "      <td>USA</td>\n",
       "      <td>1003</td>\n",
       "      <td>US</td>\n",
       "      <td>30.727750</td>\n",
       "      <td>-87.722071</td>\n",
       "      <td>Baldwin, Alabama, US</td>\n",
       "      <td>0</td>\n",
       "      <td>...</td>\n",
       "      <td>21444</td>\n",
       "      <td>21467</td>\n",
       "      <td>21489</td>\n",
       "      <td>21511</td>\n",
       "      <td>21535</td>\n",
       "      <td>21546</td>\n",
       "      <td>21554</td>\n",
       "      <td>21578</td>\n",
       "      <td>21593</td>\n",
       "      <td>21606</td>\n",
       "    </tr>\n",
       "    <tr>\n",
       "      <th>2</th>\n",
       "      <td>Alabama</td>\n",
       "      <td>84001005</td>\n",
       "      <td>US</td>\n",
       "      <td>USA</td>\n",
       "      <td>1005</td>\n",
       "      <td>US</td>\n",
       "      <td>31.868263</td>\n",
       "      <td>-85.387129</td>\n",
       "      <td>Barbour, Alabama, US</td>\n",
       "      <td>0</td>\n",
       "      <td>...</td>\n",
       "      <td>2322</td>\n",
       "      <td>2324</td>\n",
       "      <td>2326</td>\n",
       "      <td>2327</td>\n",
       "      <td>2328</td>\n",
       "      <td>2328</td>\n",
       "      <td>2328</td>\n",
       "      <td>2331</td>\n",
       "      <td>2331</td>\n",
       "      <td>2333</td>\n",
       "    </tr>\n",
       "    <tr>\n",
       "      <th>3</th>\n",
       "      <td>Alabama</td>\n",
       "      <td>84001007</td>\n",
       "      <td>US</td>\n",
       "      <td>USA</td>\n",
       "      <td>1007</td>\n",
       "      <td>US</td>\n",
       "      <td>32.996421</td>\n",
       "      <td>-87.125115</td>\n",
       "      <td>Bibb, Alabama, US</td>\n",
       "      <td>0</td>\n",
       "      <td>...</td>\n",
       "      <td>2651</td>\n",
       "      <td>2652</td>\n",
       "      <td>2656</td>\n",
       "      <td>2657</td>\n",
       "      <td>2656</td>\n",
       "      <td>2658</td>\n",
       "      <td>2659</td>\n",
       "      <td>2660</td>\n",
       "      <td>2662</td>\n",
       "      <td>2666</td>\n",
       "    </tr>\n",
       "    <tr>\n",
       "      <th>4</th>\n",
       "      <td>Alabama</td>\n",
       "      <td>84001009</td>\n",
       "      <td>US</td>\n",
       "      <td>USA</td>\n",
       "      <td>1009</td>\n",
       "      <td>US</td>\n",
       "      <td>33.982109</td>\n",
       "      <td>-86.567906</td>\n",
       "      <td>Blount, Alabama, US</td>\n",
       "      <td>0</td>\n",
       "      <td>...</td>\n",
       "      <td>6794</td>\n",
       "      <td>6808</td>\n",
       "      <td>6816</td>\n",
       "      <td>6826</td>\n",
       "      <td>6829</td>\n",
       "      <td>6832</td>\n",
       "      <td>6832</td>\n",
       "      <td>6847</td>\n",
       "      <td>6856</td>\n",
       "      <td>6862</td>\n",
       "    </tr>\n",
       "  </tbody>\n",
       "</table>\n",
       "<p>5 rows × 501 columns</p>\n",
       "</div>"
      ],
      "text/plain": [
       "     State    uni_ID iso2 iso3  FIPS Country        Lat      Long_  \\\n",
       "0  Alabama  84001001   US  USA  1001      US  32.539527 -86.644082   \n",
       "1  Alabama  84001003   US  USA  1003      US  30.727750 -87.722071   \n",
       "2  Alabama  84001005   US  USA  1005      US  31.868263 -85.387129   \n",
       "3  Alabama  84001007   US  USA  1007      US  32.996421 -87.125115   \n",
       "4  Alabama  84001009   US  USA  1009      US  33.982109 -86.567906   \n",
       "\n",
       "           Combined_Key  1/22/20  ...  5/18/21  5/19/21  5/20/21  5/21/21  \\\n",
       "0  Autauga, Alabama, US        0  ...     7015     7017     7049     7106   \n",
       "1  Baldwin, Alabama, US        0  ...    21444    21467    21489    21511   \n",
       "2  Barbour, Alabama, US        0  ...     2322     2324     2326     2327   \n",
       "3     Bibb, Alabama, US        0  ...     2651     2652     2656     2657   \n",
       "4   Blount, Alabama, US        0  ...     6794     6808     6816     6826   \n",
       "\n",
       "   5/22/21  5/23/21  5/24/21  5/25/21  5/26/21  5/27/21  \n",
       "0     7113     7118     7118     7126     7135     7141  \n",
       "1    21535    21546    21554    21578    21593    21606  \n",
       "2     2328     2328     2328     2331     2331     2333  \n",
       "3     2656     2658     2659     2660     2662     2666  \n",
       "4     6829     6832     6832     6847     6856     6862  \n",
       "\n",
       "[5 rows x 501 columns]"
      ]
     },
     "execution_count": 279,
     "metadata": {},
     "output_type": "execute_result"
    }
   ],
   "source": [
    "df.head()"
   ]
  },
  {
   "cell_type": "code",
   "execution_count": 285,
   "metadata": {},
   "outputs": [],
   "source": [
    "df2=df.groupby(\"uni_ID\")[[\"State\",'Combined_Key','FIPS']].sum().reset_index()"
   ]
  },
  {
   "cell_type": "code",
   "execution_count": 284,
   "metadata": {},
   "outputs": [
    {
     "data": {
      "text/html": [
       "<div>\n",
       "<style scoped>\n",
       "    .dataframe tbody tr th:only-of-type {\n",
       "        vertical-align: middle;\n",
       "    }\n",
       "\n",
       "    .dataframe tbody tr th {\n",
       "        vertical-align: top;\n",
       "    }\n",
       "\n",
       "    .dataframe thead th {\n",
       "        text-align: right;\n",
       "    }\n",
       "</style>\n",
       "<table border=\"1\" class=\"dataframe\">\n",
       "  <thead>\n",
       "    <tr style=\"text-align: right;\">\n",
       "      <th></th>\n",
       "      <th>uni_ID</th>\n",
       "      <th>State</th>\n",
       "      <th>Combined_Key</th>\n",
       "      <th>FIPS</th>\n",
       "    </tr>\n",
       "  </thead>\n",
       "  <tbody>\n",
       "    <tr>\n",
       "      <th>0</th>\n",
       "      <td>16</td>\n",
       "      <td>American Samoa</td>\n",
       "      <td>American Samoa, US</td>\n",
       "      <td>60</td>\n",
       "    </tr>\n",
       "    <tr>\n",
       "      <th>1</th>\n",
       "      <td>316</td>\n",
       "      <td>Guam</td>\n",
       "      <td>Guam, US</td>\n",
       "      <td>66</td>\n",
       "    </tr>\n",
       "    <tr>\n",
       "      <th>2</th>\n",
       "      <td>580</td>\n",
       "      <td>Northern Mariana Islands</td>\n",
       "      <td>Northern Mariana Islands, US</td>\n",
       "      <td>69</td>\n",
       "    </tr>\n",
       "    <tr>\n",
       "      <th>3</th>\n",
       "      <td>850</td>\n",
       "      <td>Virgin Islands</td>\n",
       "      <td>Virgin Islands, US</td>\n",
       "      <td>78</td>\n",
       "    </tr>\n",
       "    <tr>\n",
       "      <th>4</th>\n",
       "      <td>63072001</td>\n",
       "      <td>Puerto Rico</td>\n",
       "      <td>Adjuntas, Puerto Rico, US</td>\n",
       "      <td>72001</td>\n",
       "    </tr>\n",
       "    <tr>\n",
       "      <th>...</th>\n",
       "      <td>...</td>\n",
       "      <td>...</td>\n",
       "      <td>...</td>\n",
       "      <td>...</td>\n",
       "    </tr>\n",
       "    <tr>\n",
       "      <th>3337</th>\n",
       "      <td>84090053</td>\n",
       "      <td>Washington</td>\n",
       "      <td>Unassigned, Washington, US</td>\n",
       "      <td>90053</td>\n",
       "    </tr>\n",
       "    <tr>\n",
       "      <th>3338</th>\n",
       "      <td>84090054</td>\n",
       "      <td>West Virginia</td>\n",
       "      <td>Unassigned, West Virginia, US</td>\n",
       "      <td>90054</td>\n",
       "    </tr>\n",
       "    <tr>\n",
       "      <th>3339</th>\n",
       "      <td>84090055</td>\n",
       "      <td>Wisconsin</td>\n",
       "      <td>Unassigned, Wisconsin, US</td>\n",
       "      <td>90055</td>\n",
       "    </tr>\n",
       "    <tr>\n",
       "      <th>3340</th>\n",
       "      <td>84090056</td>\n",
       "      <td>Wyoming</td>\n",
       "      <td>Unassigned, Wyoming, US</td>\n",
       "      <td>90056</td>\n",
       "    </tr>\n",
       "    <tr>\n",
       "      <th>3341</th>\n",
       "      <td>84099999</td>\n",
       "      <td>Grand Princess</td>\n",
       "      <td>Grand Princess, US</td>\n",
       "      <td>99999</td>\n",
       "    </tr>\n",
       "  </tbody>\n",
       "</table>\n",
       "<p>3342 rows × 4 columns</p>\n",
       "</div>"
      ],
      "text/plain": [
       "        uni_ID                     State                   Combined_Key   FIPS\n",
       "0           16            American Samoa             American Samoa, US     60\n",
       "1          316                      Guam                       Guam, US     66\n",
       "2          580  Northern Mariana Islands   Northern Mariana Islands, US     69\n",
       "3          850            Virgin Islands             Virgin Islands, US     78\n",
       "4     63072001               Puerto Rico      Adjuntas, Puerto Rico, US  72001\n",
       "...        ...                       ...                            ...    ...\n",
       "3337  84090053                Washington     Unassigned, Washington, US  90053\n",
       "3338  84090054             West Virginia  Unassigned, West Virginia, US  90054\n",
       "3339  84090055                 Wisconsin      Unassigned, Wisconsin, US  90055\n",
       "3340  84090056                   Wyoming        Unassigned, Wyoming, US  90056\n",
       "3341  84099999            Grand Princess             Grand Princess, US  99999\n",
       "\n",
       "[3342 rows x 4 columns]"
      ]
     },
     "execution_count": 284,
     "metadata": {},
     "output_type": "execute_result"
    }
   ],
   "source": [
    "df2"
   ]
  },
  {
   "cell_type": "code",
   "execution_count": 290,
   "metadata": {},
   "outputs": [],
   "source": [
    "df3=df2[df2['uni_ID']>10000]"
   ]
  },
  {
   "cell_type": "code",
   "execution_count": 291,
   "metadata": {},
   "outputs": [
    {
     "data": {
      "text/html": [
       "<div>\n",
       "<style scoped>\n",
       "    .dataframe tbody tr th:only-of-type {\n",
       "        vertical-align: middle;\n",
       "    }\n",
       "\n",
       "    .dataframe tbody tr th {\n",
       "        vertical-align: top;\n",
       "    }\n",
       "\n",
       "    .dataframe thead th {\n",
       "        text-align: right;\n",
       "    }\n",
       "</style>\n",
       "<table border=\"1\" class=\"dataframe\">\n",
       "  <thead>\n",
       "    <tr style=\"text-align: right;\">\n",
       "      <th></th>\n",
       "      <th>uni_ID</th>\n",
       "      <th>State</th>\n",
       "      <th>Combined_Key</th>\n",
       "      <th>FIPS</th>\n",
       "    </tr>\n",
       "  </thead>\n",
       "  <tbody>\n",
       "    <tr>\n",
       "      <th>4</th>\n",
       "      <td>63072001</td>\n",
       "      <td>Puerto Rico</td>\n",
       "      <td>Adjuntas, Puerto Rico, US</td>\n",
       "      <td>72001</td>\n",
       "    </tr>\n",
       "    <tr>\n",
       "      <th>5</th>\n",
       "      <td>63072003</td>\n",
       "      <td>Puerto Rico</td>\n",
       "      <td>Aguada, Puerto Rico, US</td>\n",
       "      <td>72003</td>\n",
       "    </tr>\n",
       "    <tr>\n",
       "      <th>6</th>\n",
       "      <td>63072005</td>\n",
       "      <td>Puerto Rico</td>\n",
       "      <td>Aguadilla, Puerto Rico, US</td>\n",
       "      <td>72005</td>\n",
       "    </tr>\n",
       "    <tr>\n",
       "      <th>7</th>\n",
       "      <td>63072007</td>\n",
       "      <td>Puerto Rico</td>\n",
       "      <td>Aguas Buenas, Puerto Rico, US</td>\n",
       "      <td>72007</td>\n",
       "    </tr>\n",
       "    <tr>\n",
       "      <th>8</th>\n",
       "      <td>63072009</td>\n",
       "      <td>Puerto Rico</td>\n",
       "      <td>Aibonito, Puerto Rico, US</td>\n",
       "      <td>72009</td>\n",
       "    </tr>\n",
       "    <tr>\n",
       "      <th>...</th>\n",
       "      <td>...</td>\n",
       "      <td>...</td>\n",
       "      <td>...</td>\n",
       "      <td>...</td>\n",
       "    </tr>\n",
       "    <tr>\n",
       "      <th>3337</th>\n",
       "      <td>84090053</td>\n",
       "      <td>Washington</td>\n",
       "      <td>Unassigned, Washington, US</td>\n",
       "      <td>90053</td>\n",
       "    </tr>\n",
       "    <tr>\n",
       "      <th>3338</th>\n",
       "      <td>84090054</td>\n",
       "      <td>West Virginia</td>\n",
       "      <td>Unassigned, West Virginia, US</td>\n",
       "      <td>90054</td>\n",
       "    </tr>\n",
       "    <tr>\n",
       "      <th>3339</th>\n",
       "      <td>84090055</td>\n",
       "      <td>Wisconsin</td>\n",
       "      <td>Unassigned, Wisconsin, US</td>\n",
       "      <td>90055</td>\n",
       "    </tr>\n",
       "    <tr>\n",
       "      <th>3340</th>\n",
       "      <td>84090056</td>\n",
       "      <td>Wyoming</td>\n",
       "      <td>Unassigned, Wyoming, US</td>\n",
       "      <td>90056</td>\n",
       "    </tr>\n",
       "    <tr>\n",
       "      <th>3341</th>\n",
       "      <td>84099999</td>\n",
       "      <td>Grand Princess</td>\n",
       "      <td>Grand Princess, US</td>\n",
       "      <td>99999</td>\n",
       "    </tr>\n",
       "  </tbody>\n",
       "</table>\n",
       "<p>3338 rows × 4 columns</p>\n",
       "</div>"
      ],
      "text/plain": [
       "        uni_ID           State                   Combined_Key   FIPS\n",
       "4     63072001     Puerto Rico      Adjuntas, Puerto Rico, US  72001\n",
       "5     63072003     Puerto Rico        Aguada, Puerto Rico, US  72003\n",
       "6     63072005     Puerto Rico     Aguadilla, Puerto Rico, US  72005\n",
       "7     63072007     Puerto Rico  Aguas Buenas, Puerto Rico, US  72007\n",
       "8     63072009     Puerto Rico      Aibonito, Puerto Rico, US  72009\n",
       "...        ...             ...                            ...    ...\n",
       "3337  84090053      Washington     Unassigned, Washington, US  90053\n",
       "3338  84090054   West Virginia  Unassigned, West Virginia, US  90054\n",
       "3339  84090055       Wisconsin      Unassigned, Wisconsin, US  90055\n",
       "3340  84090056         Wyoming        Unassigned, Wyoming, US  90056\n",
       "3341  84099999  Grand Princess             Grand Princess, US  99999\n",
       "\n",
       "[3338 rows x 4 columns]"
      ]
     },
     "execution_count": 291,
     "metadata": {},
     "output_type": "execute_result"
    }
   ],
   "source": [
    "df3"
   ]
  },
  {
   "cell_type": "code",
   "execution_count": 293,
   "metadata": {},
   "outputs": [],
   "source": [
    " import matplotlib.pyplot as plt"
   ]
  },
  {
   "cell_type": "code",
   "execution_count": 301,
   "metadata": {},
   "outputs": [
    {
     "data": {
      "text/plain": [
       "[<matplotlib.lines.Line2D at 0x1bb3d2d8ca0>]"
      ]
     },
     "execution_count": 301,
     "metadata": {},
     "output_type": "execute_result"
    },
    {
     "data": {
      "image/png": "[encoded data removed]",
      "text/plain": [
       "<Figure size 432x288 with 1 Axes>"
      ]
     },
     "metadata": {
      "needs_background": "light"
     },
     "output_type": "display_data"
    }
   ],
   "source": [
    "x=np.linspace(0,10,1000)\n",
    "y=np.sin(x)\n",
    "plt.plot(x,y)"
   ]
  },
  {
   "cell_type": "code",
   "execution_count": 302,
   "metadata": {},
   "outputs": [
    {
     "data": {
      "text/plain": [
       "<matplotlib.collections.PathCollection at 0x1bb3e63b370>"
      ]
     },
     "execution_count": 302,
     "metadata": {},
     "output_type": "execute_result"
    },
    {
     "data": {
      "image/png": "[encoded data removed]",
      "text/plain": [
       "<Figure size 432x288 with 1 Axes>"
      ]
     },
     "metadata": {
      "needs_background": "light"
     },
     "output_type": "display_data"
    }
   ],
   "source": [
    "plt.scatter(x[::10],y[::10],color='orange' )"
   ]
  },
  {
   "cell_type": "code",
   "execution_count": 304,
   "metadata": {},
   "outputs": [
    {
     "data": {
      "text/plain": [
       "[<matplotlib.lines.Line2D at 0x1bb44279a30>]"
      ]
     },
     "execution_count": 304,
     "metadata": {},
     "output_type": "execute_result"
    },
    {
     "data": {
      "image/png": "[encoded data removed]",
      "text/plain": [
       "<Figure size 432x288 with 1 Axes>"
      ]
     },
     "metadata": {
      "needs_background": "light"
     },
     "output_type": "display_data"
    }
   ],
   "source": [
    "plt.plot(x,y,color='r')\n",
    "plt.plot(x,np.cos(x),color='green')"
   ]
  },
  {
   "cell_type": "code",
   "execution_count": null,
   "metadata": {},
   "outputs": [],
   "source": [
    " "
   ]
  }
 ],
 "metadata": {
  "kernelspec": {
   "display_name": "Python 3",
   "language": "python",
   "name": "python3"
  },
  "language_info": {
   "codemirror_mode": {
    "name": "ipython",
    "version": 3
   },
   "file_extension": ".py",
   "mimetype": "text/x-python",
   "name": "python",
   "nbconvert_exporter": "python",
   "pygments_lexer": "ipython3",
   "version": "3.8.5"
  }
 },
 "nbformat": 4,
 "nbformat_minor": 4
}
